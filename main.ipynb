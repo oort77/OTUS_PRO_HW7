{
 "cells": [
  {
   "cell_type": "markdown",
   "id": "a1e32a52",
   "metadata": {},
   "source": [
    "**OTUS Machine Learning Professional**"
   ]
  },
  {
   "cell_type": "markdown",
   "id": "77a2a915",
   "metadata": {
    "ExecuteTime": {
     "end_time": "2022-06-02T14:30:29.206683Z",
     "start_time": "2022-06-02T14:30:29.199401Z"
    }
   },
   "source": [
    "### **Homework 7**\n",
    "\n",
    "### Building a recommendation system\n",
    "\n",
    "![hw7p_header](https://user-images.githubusercontent.com/73858914/171977625-f8c473af-748f-4264-b024-5f4a484da8b2.png)\n",
    "\n",
    "**Goals:**\n",
    "\n",
    "1. Download a dataset from [Amazon review data](https://nijianmo.github.io/amazon/index.html \"https://nijianmo.github.io/amazon/index.html\");   \n",
    "2. Explore data - distribution of ratings, number of unique items etc.;\n",
    "3. Do time-aware train-test split;\n",
    "4. Build a recommender system;\n",
    "5. Estimate the system's quality with either RMSE or ratings\n",
    "\n",
    "**Means**:\n",
    "\n",
    "- Notebook relies mostly on [Surprise](https://github.com/NicolasHug/Surprise) and [TextHero](https://github.com/jbesomi/texthero/tree/master/texthero) libraries\n",
    "\n",
    "**Data source**:\n",
    "\n",
    "[Amazon Review Data (2018)](https://nijianmo.github.io/amazon/index.html)\n",
    "\n",
    "**Binder notebook:**\n",
    "\n",
    "main.ipynb"
   ]
  },
  {
   "cell_type": "markdown",
   "id": "bf7e2b2e",
   "metadata": {},
   "source": [
    "### Review positivity-negativity recommender "
   ]
  },
  {
   "cell_type": "markdown",
   "id": "8a37674a",
   "metadata": {},
   "source": [
    "We will try to build a recommender system that will calculate a sentiment   \n",
    "for each rating.   Sentiment is calculated as normalised difference between   \n",
    "positive and negative words occurences in each review+summary text.   \n",
    "[Minqing Hu and Bing Liu](http://www.cs.uic.edu/~liub/FBS/sentiment-analysis.html) lexicon lists are used for positive/negative words."
   ]
  },
  {
   "cell_type": "markdown",
   "id": "a6a973cc",
   "metadata": {},
   "source": [
    "### Import libraries"
   ]
  },
  {
   "cell_type": "code",
   "execution_count": 2,
   "id": "13df8310",
   "metadata": {
    "ExecuteTime": {
     "end_time": "2022-06-02T19:28:43.833766Z",
     "start_time": "2022-06-02T19:28:43.200821Z"
    }
   },
   "outputs": [],
   "source": [
    "# import surprise\n",
    "import pandas as pd\n",
    "import numpy as np\n",
    "from surprise import KNNWithMeans, KNNBaseline, SVD, SVDpp, SlopeOne, NMF, NormalPredictor, KNNBaseline, KNNBasic, KNNWithMeans, KNNWithZScore, BaselineOnly, CoClustering\n",
    "from surprise import Dataset, Reader\n",
    "from surprise.model_selection import cross_validate\n",
    "from surprise.accuracy import rmse\n",
    "import random\n",
    "import json\n",
    "import gzip\n",
    "import requests\n",
    "import matplotlib.pyplot as plt\n",
    "import seaborn as sns\n",
    "import texthero as hero\n",
    "from IPython.display import display, HTML\n",
    "import warnings\n",
    "\n",
    "warnings.filterwarnings(\"ignore\")"
   ]
  },
  {
   "cell_type": "markdown",
   "id": "edfb8764",
   "metadata": {},
   "source": [
    "###  Miscellaneous settings"
   ]
  },
  {
   "cell_type": "code",
   "execution_count": 3,
   "id": "4d661218",
   "metadata": {
    "ExecuteTime": {
     "end_time": "2022-06-02T19:28:43.845640Z",
     "start_time": "2022-06-02T19:28:43.835037Z"
    }
   },
   "outputs": [
    {
     "data": {
      "text/html": [
       "<style>.container { width:80% !important; }</style>"
      ],
      "text/plain": [
       "<IPython.core.display.HTML object>"
      ]
     },
     "metadata": {},
     "output_type": "display_data"
    }
   ],
   "source": [
    "%matplotlib inline\n",
    "display(HTML(\"<style>.container { width:80% !important; }</style>\"))\n",
    "%config InlineBackend.figure_format = 'retina'\n",
    "plt.rcParams[\"figure.figsize\"] = (10, 5)\n",
    "plt.style.use('seaborn')\n",
    "pd.options.display.precision = 4"
   ]
  },
  {
   "cell_type": "markdown",
   "id": "17115604",
   "metadata": {},
   "source": [
    "### Load data"
   ]
  },
  {
   "cell_type": "code",
   "execution_count": 4,
   "id": "5750392e",
   "metadata": {
    "ExecuteTime": {
     "end_time": "2022-06-02T19:28:44.259540Z",
     "start_time": "2022-06-02T19:28:44.259529Z"
    }
   },
   "outputs": [],
   "source": [
    "url = \"http://deepyeti.ucsd.edu/jianmo/amazon/categoryFilesSmall/Tools_and_Home_Improvement_5.json.gz\"\n",
    "r = requests.get(url)\n",
    "with open(\"./data/Tools_and_Home_Improvement_5.json.gz\",\"wb\") as gz_file:\n",
    "    gz_file.write(r.content)\n",
    "\n",
    "def parse(path):\n",
    "  g = gzip.open(path, 'rb')\n",
    "  for l in g:\n",
    "    yield json.loads(l)\n",
    "\n",
    "def getDF(path):\n",
    "  i = 0\n",
    "  df = {}\n",
    "  for d in parse(path):\n",
    "    df[i] = d\n",
    "    i += 1\n",
    "  return pd.DataFrame.from_dict(df, orient='index')\n",
    "\n",
    "df_ = getDF('./data/Tools_and_Home_Improvement_5.json.gz')"
   ]
  },
  {
   "cell_type": "code",
   "execution_count": 5,
   "id": "fab9f93c",
   "metadata": {
    "ExecuteTime": {
     "end_time": "2022-06-02T19:28:44.260652Z",
     "start_time": "2022-06-02T19:28:44.260641Z"
    }
   },
   "outputs": [
    {
     "data": {
      "text/html": [
       "<div>\n",
       "<style scoped>\n",
       "    .dataframe tbody tr th:only-of-type {\n",
       "        vertical-align: middle;\n",
       "    }\n",
       "\n",
       "    .dataframe tbody tr th {\n",
       "        vertical-align: top;\n",
       "    }\n",
       "\n",
       "    .dataframe thead th {\n",
       "        text-align: right;\n",
       "    }\n",
       "</style>\n",
       "<table border=\"1\" class=\"dataframe\">\n",
       "  <thead>\n",
       "    <tr style=\"text-align: right;\">\n",
       "      <th></th>\n",
       "      <th>overall</th>\n",
       "      <th>verified</th>\n",
       "      <th>reviewTime</th>\n",
       "      <th>reviewerID</th>\n",
       "      <th>asin</th>\n",
       "      <th>style</th>\n",
       "      <th>reviewerName</th>\n",
       "      <th>reviewText</th>\n",
       "      <th>summary</th>\n",
       "      <th>unixReviewTime</th>\n",
       "      <th>vote</th>\n",
       "      <th>image</th>\n",
       "    </tr>\n",
       "  </thead>\n",
       "  <tbody>\n",
       "    <tr>\n",
       "      <th>2070826</th>\n",
       "      <td>4.0</td>\n",
       "      <td>True</td>\n",
       "      <td>03 7, 2017</td>\n",
       "      <td>A2Y0L6RLGE6AG0</td>\n",
       "      <td>B01HJCLMMQ</td>\n",
       "      <td>NaN</td>\n",
       "      <td>William R. Oldaker</td>\n",
       "      <td>I like it.</td>\n",
       "      <td>Four Stars</td>\n",
       "      <td>1488844800</td>\n",
       "      <td>NaN</td>\n",
       "      <td>NaN</td>\n",
       "    </tr>\n",
       "    <tr>\n",
       "      <th>2070827</th>\n",
       "      <td>5.0</td>\n",
       "      <td>True</td>\n",
       "      <td>03 2, 2017</td>\n",
       "      <td>A31CQSAL2PI371</td>\n",
       "      <td>B01HJCLMMQ</td>\n",
       "      <td>NaN</td>\n",
       "      <td>Kenny L Nipp</td>\n",
       "      <td>Great task light. I travel extensively and con...</td>\n",
       "      <td>You can set the light to various conditions to...</td>\n",
       "      <td>1488412800</td>\n",
       "      <td>NaN</td>\n",
       "      <td>NaN</td>\n",
       "    </tr>\n",
       "    <tr>\n",
       "      <th>2070828</th>\n",
       "      <td>5.0</td>\n",
       "      <td>True</td>\n",
       "      <td>01 7, 2017</td>\n",
       "      <td>A3PR3RT5QL5I3O</td>\n",
       "      <td>B01HJCLMMQ</td>\n",
       "      <td>NaN</td>\n",
       "      <td>J. Ro Morgan</td>\n",
       "      <td>Very bright, beautifully packaged, light weigh...</td>\n",
       "      <td>I bought a second one...</td>\n",
       "      <td>1483747200</td>\n",
       "      <td>NaN</td>\n",
       "      <td>NaN</td>\n",
       "    </tr>\n",
       "    <tr>\n",
       "      <th>2070829</th>\n",
       "      <td>4.0</td>\n",
       "      <td>True</td>\n",
       "      <td>04 17, 2018</td>\n",
       "      <td>A1LQ5376UESSM</td>\n",
       "      <td>B01HJF90LS</td>\n",
       "      <td>{'Color:': ' warm white'}</td>\n",
       "      <td>Simon</td>\n",
       "      <td>Clever replacement for a mason jar top, a sola...</td>\n",
       "      <td>Pretty - but nobody tells you the lights only ...</td>\n",
       "      <td>1523923200</td>\n",
       "      <td>NaN</td>\n",
       "      <td>NaN</td>\n",
       "    </tr>\n",
       "    <tr>\n",
       "      <th>2070830</th>\n",
       "      <td>2.0</td>\n",
       "      <td>True</td>\n",
       "      <td>12 4, 2017</td>\n",
       "      <td>A1T9O7WJWI1XSR</td>\n",
       "      <td>B01HJHS73S</td>\n",
       "      <td>NaN</td>\n",
       "      <td>craig johnson</td>\n",
       "      <td>Item still works, but the time lights stay lit...</td>\n",
       "      <td>1 year after purchase review</td>\n",
       "      <td>1512345600</td>\n",
       "      <td>NaN</td>\n",
       "      <td>NaN</td>\n",
       "    </tr>\n",
       "  </tbody>\n",
       "</table>\n",
       "</div>"
      ],
      "text/plain": [
       "         overall  verified   reviewTime      reviewerID        asin  \\\n",
       "2070826      4.0      True   03 7, 2017  A2Y0L6RLGE6AG0  B01HJCLMMQ   \n",
       "2070827      5.0      True   03 2, 2017  A31CQSAL2PI371  B01HJCLMMQ   \n",
       "2070828      5.0      True   01 7, 2017  A3PR3RT5QL5I3O  B01HJCLMMQ   \n",
       "2070829      4.0      True  04 17, 2018   A1LQ5376UESSM  B01HJF90LS   \n",
       "2070830      2.0      True   12 4, 2017  A1T9O7WJWI1XSR  B01HJHS73S   \n",
       "\n",
       "                             style        reviewerName  \\\n",
       "2070826                        NaN  William R. Oldaker   \n",
       "2070827                        NaN        Kenny L Nipp   \n",
       "2070828                        NaN        J. Ro Morgan   \n",
       "2070829  {'Color:': ' warm white'}               Simon   \n",
       "2070830                        NaN       craig johnson   \n",
       "\n",
       "                                                reviewText  \\\n",
       "2070826                                         I like it.   \n",
       "2070827  Great task light. I travel extensively and con...   \n",
       "2070828  Very bright, beautifully packaged, light weigh...   \n",
       "2070829  Clever replacement for a mason jar top, a sola...   \n",
       "2070830  Item still works, but the time lights stay lit...   \n",
       "\n",
       "                                                   summary  unixReviewTime  \\\n",
       "2070826                                         Four Stars      1488844800   \n",
       "2070827  You can set the light to various conditions to...      1488412800   \n",
       "2070828                           I bought a second one...      1483747200   \n",
       "2070829  Pretty - but nobody tells you the lights only ...      1523923200   \n",
       "2070830                       1 year after purchase review      1512345600   \n",
       "\n",
       "        vote image  \n",
       "2070826  NaN   NaN  \n",
       "2070827  NaN   NaN  \n",
       "2070828  NaN   NaN  \n",
       "2070829  NaN   NaN  \n",
       "2070830  NaN   NaN  "
      ]
     },
     "execution_count": 5,
     "metadata": {},
     "output_type": "execute_result"
    }
   ],
   "source": [
    "df_.tail()"
   ]
  },
  {
   "cell_type": "markdown",
   "id": "2d845fd8",
   "metadata": {},
   "source": [
    "### EDA"
   ]
  },
  {
   "cell_type": "markdown",
   "id": "d4e36184",
   "metadata": {},
   "source": [
    "#### Basic numbers"
   ]
  },
  {
   "cell_type": "code",
   "execution_count": 6,
   "id": "210d6aa1",
   "metadata": {
    "ExecuteTime": {
     "end_time": "2022-06-02T19:28:44.261682Z",
     "start_time": "2022-06-02T19:28:44.261671Z"
    }
   },
   "outputs": [
    {
     "name": "stdout",
     "output_type": "stream",
     "text": [
      "<class 'pandas.core.frame.DataFrame'>\n",
      "Int64Index: 2070831 entries, 0 to 2070830\n",
      "Data columns (total 12 columns):\n",
      " #   Column          Dtype  \n",
      "---  ------          -----  \n",
      " 0   overall         float64\n",
      " 1   verified        bool   \n",
      " 2   reviewTime      object \n",
      " 3   reviewerID      object \n",
      " 4   asin            object \n",
      " 5   style           object \n",
      " 6   reviewerName    object \n",
      " 7   reviewText      object \n",
      " 8   summary         object \n",
      " 9   unixReviewTime  int64  \n",
      " 10  vote            object \n",
      " 11  image           object \n",
      "dtypes: bool(1), float64(1), int64(1), object(9)\n",
      "memory usage: 191.6+ MB\n"
     ]
    }
   ],
   "source": [
    "df_.info()"
   ]
  },
  {
   "cell_type": "code",
   "execution_count": 7,
   "id": "e5973812",
   "metadata": {},
   "outputs": [],
   "source": [
    "df = df_.copy()"
   ]
  },
  {
   "cell_type": "code",
   "execution_count": 8,
   "id": "1820775b",
   "metadata": {
    "ExecuteTime": {
     "end_time": "2022-06-02T19:28:44.262579Z",
     "start_time": "2022-06-02T19:28:44.262568Z"
    }
   },
   "outputs": [
    {
     "name": "stdout",
     "output_type": "stream",
     "text": [
      "Unique products reviewed: 73649\n"
     ]
    }
   ],
   "source": [
    "print(f\"Unique items reviewed: {df['asin'].nunique()}\")"
   ]
  },
  {
   "cell_type": "code",
   "execution_count": 152,
   "id": "b6fa231a",
   "metadata": {},
   "outputs": [
    {
     "name": "stdout",
     "output_type": "stream",
     "text": [
      "Unique reviewers: 43397\n"
     ]
    }
   ],
   "source": [
    "print(f\"Unique reviewers: {df['reviewerID'].nunique()}\")"
   ]
  },
  {
   "cell_type": "code",
   "execution_count": 9,
   "id": "c8ebb2ac",
   "metadata": {
    "ExecuteTime": {
     "end_time": "2022-06-02T19:28:44.263465Z",
     "start_time": "2022-06-02T19:28:44.263454Z"
    }
   },
   "outputs": [
    {
     "data": {
      "text/html": [
       "<div>\n",
       "<style scoped>\n",
       "    .dataframe tbody tr th:only-of-type {\n",
       "        vertical-align: middle;\n",
       "    }\n",
       "\n",
       "    .dataframe tbody tr th {\n",
       "        vertical-align: top;\n",
       "    }\n",
       "\n",
       "    .dataframe thead th {\n",
       "        text-align: right;\n",
       "    }\n",
       "</style>\n",
       "<table border=\"1\" class=\"dataframe\">\n",
       "  <thead>\n",
       "    <tr style=\"text-align: right;\">\n",
       "      <th></th>\n",
       "      <th>overall</th>\n",
       "      <th>verified</th>\n",
       "      <th>reviewTime</th>\n",
       "      <th>reviewerID</th>\n",
       "      <th>asin</th>\n",
       "      <th>style</th>\n",
       "      <th>reviewerName</th>\n",
       "      <th>reviewText</th>\n",
       "      <th>summary</th>\n",
       "      <th>unixReviewTime</th>\n",
       "      <th>vote</th>\n",
       "      <th>image</th>\n",
       "    </tr>\n",
       "  </thead>\n",
       "  <tbody>\n",
       "    <tr>\n",
       "      <th>0</th>\n",
       "      <td>5.0</td>\n",
       "      <td>True</td>\n",
       "      <td>01 28, 2018</td>\n",
       "      <td>AL19QO4XLBQPU</td>\n",
       "      <td>0982085028</td>\n",
       "      <td>{'Style:': ' 1) IR30 POU (30A/3.4kW/110v)'}</td>\n",
       "      <td>J. Mollenkamp</td>\n",
       "      <td>returned, decided against this product</td>\n",
       "      <td>Five Stars</td>\n",
       "      <td>1517097600</td>\n",
       "      <td>NaN</td>\n",
       "      <td>NaN</td>\n",
       "    </tr>\n",
       "    <tr>\n",
       "      <th>1</th>\n",
       "      <td>5.0</td>\n",
       "      <td>True</td>\n",
       "      <td>11 30, 2017</td>\n",
       "      <td>A1I7CVB7X3T81E</td>\n",
       "      <td>0982085028</td>\n",
       "      <td>{'Style:': ' 3) IR260 POU (30A/6kW/220v)'}</td>\n",
       "      <td>warfam</td>\n",
       "      <td>Awesome heater for the electrical requirements...</td>\n",
       "      <td>Five Stars</td>\n",
       "      <td>1512000000</td>\n",
       "      <td>NaN</td>\n",
       "      <td>NaN</td>\n",
       "    </tr>\n",
       "    <tr>\n",
       "      <th>2</th>\n",
       "      <td>5.0</td>\n",
       "      <td>True</td>\n",
       "      <td>09 12, 2017</td>\n",
       "      <td>A1AQXO4P5U674E</td>\n",
       "      <td>0982085028</td>\n",
       "      <td>{'Style:': ' Style64'}</td>\n",
       "      <td>gbieber2</td>\n",
       "      <td>Keeps the mist of your wood trim and on you. B...</td>\n",
       "      <td>Five Stars</td>\n",
       "      <td>1505174400</td>\n",
       "      <td>NaN</td>\n",
       "      <td>NaN</td>\n",
       "    </tr>\n",
       "    <tr>\n",
       "      <th>3</th>\n",
       "      <td>4.0</td>\n",
       "      <td>True</td>\n",
       "      <td>07 19, 2017</td>\n",
       "      <td>AIRV678P7C4NK</td>\n",
       "      <td>0982085028</td>\n",
       "      <td>NaN</td>\n",
       "      <td>Justin Banner</td>\n",
       "      <td>So far I hooked it up and tested it , filled a...</td>\n",
       "      <td>it is the perfect temp for a shower</td>\n",
       "      <td>1500422400</td>\n",
       "      <td>NaN</td>\n",
       "      <td>NaN</td>\n",
       "    </tr>\n",
       "    <tr>\n",
       "      <th>4</th>\n",
       "      <td>1.0</td>\n",
       "      <td>True</td>\n",
       "      <td>05 25, 2017</td>\n",
       "      <td>A22I5QDNTNECDW</td>\n",
       "      <td>0982085028</td>\n",
       "      <td>{'Style:': ' 3) IR260 POU (30A/6kW/220v)'}</td>\n",
       "      <td>daveparker</td>\n",
       "      <td>i installed this 10 months ago, instructions w...</td>\n",
       "      <td>worked well...for 10 months.</td>\n",
       "      <td>1495670400</td>\n",
       "      <td>16</td>\n",
       "      <td>NaN</td>\n",
       "    </tr>\n",
       "    <tr>\n",
       "      <th>...</th>\n",
       "      <td>...</td>\n",
       "      <td>...</td>\n",
       "      <td>...</td>\n",
       "      <td>...</td>\n",
       "      <td>...</td>\n",
       "      <td>...</td>\n",
       "      <td>...</td>\n",
       "      <td>...</td>\n",
       "      <td>...</td>\n",
       "      <td>...</td>\n",
       "      <td>...</td>\n",
       "      <td>...</td>\n",
       "    </tr>\n",
       "    <tr>\n",
       "      <th>2070826</th>\n",
       "      <td>4.0</td>\n",
       "      <td>True</td>\n",
       "      <td>03 7, 2017</td>\n",
       "      <td>A2Y0L6RLGE6AG0</td>\n",
       "      <td>B01HJCLMMQ</td>\n",
       "      <td>NaN</td>\n",
       "      <td>William R. Oldaker</td>\n",
       "      <td>I like it.</td>\n",
       "      <td>Four Stars</td>\n",
       "      <td>1488844800</td>\n",
       "      <td>NaN</td>\n",
       "      <td>NaN</td>\n",
       "    </tr>\n",
       "    <tr>\n",
       "      <th>2070827</th>\n",
       "      <td>5.0</td>\n",
       "      <td>True</td>\n",
       "      <td>03 2, 2017</td>\n",
       "      <td>A31CQSAL2PI371</td>\n",
       "      <td>B01HJCLMMQ</td>\n",
       "      <td>NaN</td>\n",
       "      <td>Kenny L Nipp</td>\n",
       "      <td>Great task light. I travel extensively and con...</td>\n",
       "      <td>You can set the light to various conditions to...</td>\n",
       "      <td>1488412800</td>\n",
       "      <td>NaN</td>\n",
       "      <td>NaN</td>\n",
       "    </tr>\n",
       "    <tr>\n",
       "      <th>2070828</th>\n",
       "      <td>5.0</td>\n",
       "      <td>True</td>\n",
       "      <td>01 7, 2017</td>\n",
       "      <td>A3PR3RT5QL5I3O</td>\n",
       "      <td>B01HJCLMMQ</td>\n",
       "      <td>NaN</td>\n",
       "      <td>J. Ro Morgan</td>\n",
       "      <td>Very bright, beautifully packaged, light weigh...</td>\n",
       "      <td>I bought a second one...</td>\n",
       "      <td>1483747200</td>\n",
       "      <td>NaN</td>\n",
       "      <td>NaN</td>\n",
       "    </tr>\n",
       "    <tr>\n",
       "      <th>2070829</th>\n",
       "      <td>4.0</td>\n",
       "      <td>True</td>\n",
       "      <td>04 17, 2018</td>\n",
       "      <td>A1LQ5376UESSM</td>\n",
       "      <td>B01HJF90LS</td>\n",
       "      <td>{'Color:': ' warm white'}</td>\n",
       "      <td>Simon</td>\n",
       "      <td>Clever replacement for a mason jar top, a sola...</td>\n",
       "      <td>Pretty - but nobody tells you the lights only ...</td>\n",
       "      <td>1523923200</td>\n",
       "      <td>NaN</td>\n",
       "      <td>NaN</td>\n",
       "    </tr>\n",
       "    <tr>\n",
       "      <th>2070830</th>\n",
       "      <td>2.0</td>\n",
       "      <td>True</td>\n",
       "      <td>12 4, 2017</td>\n",
       "      <td>A1T9O7WJWI1XSR</td>\n",
       "      <td>B01HJHS73S</td>\n",
       "      <td>NaN</td>\n",
       "      <td>craig johnson</td>\n",
       "      <td>Item still works, but the time lights stay lit...</td>\n",
       "      <td>1 year after purchase review</td>\n",
       "      <td>1512345600</td>\n",
       "      <td>NaN</td>\n",
       "      <td>NaN</td>\n",
       "    </tr>\n",
       "  </tbody>\n",
       "</table>\n",
       "<p>2070831 rows × 12 columns</p>\n",
       "</div>"
      ],
      "text/plain": [
       "         overall  verified   reviewTime      reviewerID        asin  \\\n",
       "0            5.0      True  01 28, 2018   AL19QO4XLBQPU  0982085028   \n",
       "1            5.0      True  11 30, 2017  A1I7CVB7X3T81E  0982085028   \n",
       "2            5.0      True  09 12, 2017  A1AQXO4P5U674E  0982085028   \n",
       "3            4.0      True  07 19, 2017   AIRV678P7C4NK  0982085028   \n",
       "4            1.0      True  05 25, 2017  A22I5QDNTNECDW  0982085028   \n",
       "...          ...       ...          ...             ...         ...   \n",
       "2070826      4.0      True   03 7, 2017  A2Y0L6RLGE6AG0  B01HJCLMMQ   \n",
       "2070827      5.0      True   03 2, 2017  A31CQSAL2PI371  B01HJCLMMQ   \n",
       "2070828      5.0      True   01 7, 2017  A3PR3RT5QL5I3O  B01HJCLMMQ   \n",
       "2070829      4.0      True  04 17, 2018   A1LQ5376UESSM  B01HJF90LS   \n",
       "2070830      2.0      True   12 4, 2017  A1T9O7WJWI1XSR  B01HJHS73S   \n",
       "\n",
       "                                               style        reviewerName  \\\n",
       "0        {'Style:': ' 1) IR30 POU (30A/3.4kW/110v)'}       J. Mollenkamp   \n",
       "1         {'Style:': ' 3) IR260 POU (30A/6kW/220v)'}              warfam   \n",
       "2                             {'Style:': ' Style64'}            gbieber2   \n",
       "3                                                NaN       Justin Banner   \n",
       "4         {'Style:': ' 3) IR260 POU (30A/6kW/220v)'}          daveparker   \n",
       "...                                              ...                 ...   \n",
       "2070826                                          NaN  William R. Oldaker   \n",
       "2070827                                          NaN        Kenny L Nipp   \n",
       "2070828                                          NaN        J. Ro Morgan   \n",
       "2070829                    {'Color:': ' warm white'}               Simon   \n",
       "2070830                                          NaN       craig johnson   \n",
       "\n",
       "                                                reviewText  \\\n",
       "0                   returned, decided against this product   \n",
       "1        Awesome heater for the electrical requirements...   \n",
       "2        Keeps the mist of your wood trim and on you. B...   \n",
       "3        So far I hooked it up and tested it , filled a...   \n",
       "4        i installed this 10 months ago, instructions w...   \n",
       "...                                                    ...   \n",
       "2070826                                         I like it.   \n",
       "2070827  Great task light. I travel extensively and con...   \n",
       "2070828  Very bright, beautifully packaged, light weigh...   \n",
       "2070829  Clever replacement for a mason jar top, a sola...   \n",
       "2070830  Item still works, but the time lights stay lit...   \n",
       "\n",
       "                                                   summary  unixReviewTime  \\\n",
       "0                                               Five Stars      1517097600   \n",
       "1                                               Five Stars      1512000000   \n",
       "2                                               Five Stars      1505174400   \n",
       "3                      it is the perfect temp for a shower      1500422400   \n",
       "4                             worked well...for 10 months.      1495670400   \n",
       "...                                                    ...             ...   \n",
       "2070826                                         Four Stars      1488844800   \n",
       "2070827  You can set the light to various conditions to...      1488412800   \n",
       "2070828                           I bought a second one...      1483747200   \n",
       "2070829  Pretty - but nobody tells you the lights only ...      1523923200   \n",
       "2070830                       1 year after purchase review      1512345600   \n",
       "\n",
       "        vote image  \n",
       "0        NaN   NaN  \n",
       "1        NaN   NaN  \n",
       "2        NaN   NaN  \n",
       "3        NaN   NaN  \n",
       "4         16   NaN  \n",
       "...      ...   ...  \n",
       "2070826  NaN   NaN  \n",
       "2070827  NaN   NaN  \n",
       "2070828  NaN   NaN  \n",
       "2070829  NaN   NaN  \n",
       "2070830  NaN   NaN  \n",
       "\n",
       "[2070831 rows x 12 columns]"
      ]
     },
     "execution_count": 9,
     "metadata": {},
     "output_type": "execute_result"
    }
   ],
   "source": [
    "df[df['vote']!= None]"
   ]
  },
  {
   "cell_type": "markdown",
   "id": "1c2d859e",
   "metadata": {},
   "source": [
    "#### Drop unneded columns"
   ]
  },
  {
   "cell_type": "code",
   "execution_count": 10,
   "id": "a2cba296",
   "metadata": {
    "ExecuteTime": {
     "end_time": "2022-06-02T19:28:44.264410Z",
     "start_time": "2022-06-02T19:28:44.264399Z"
    }
   },
   "outputs": [],
   "source": [
    "df.drop(columns=['verified', 'reviewTime', 'style',\t'reviewerName','vote','image'], inplace=True)"
   ]
  },
  {
   "cell_type": "markdown",
   "id": "bcae4a69",
   "metadata": {},
   "source": [
    "#### Ratings per reviewer"
   ]
  },
  {
   "cell_type": "code",
   "execution_count": 101,
   "id": "998db2ee",
   "metadata": {
    "scrolled": true
   },
   "outputs": [
    {
     "data": {
      "image/png": "[encoded data removed]",
      "text/plain": [
       "<Figure size 576x396 with 1 Axes>"
      ]
     },
     "metadata": {
      "image/png": {
       "height": 369,
       "width": 490
      }
     },
     "output_type": "display_data"
    }
   ],
   "source": [
    "data = df.groupby('reviewerID')['overall'].count().clip(upper=30)\n",
    "data.hist(bins=50)\n",
    "plt.suptitle(\"Ratings per reviewer\")\n",
    "plt.show()"
   ]
  },
  {
   "cell_type": "markdown",
   "id": "29ec463a",
   "metadata": {},
   "source": [
    "#### Ratings per item"
   ]
  },
  {
   "cell_type": "code",
   "execution_count": 102,
   "id": "28c47a51",
   "metadata": {
    "scrolled": true
   },
   "outputs": [
    {
     "data": {
      "image/png": "[encoded data removed]",
      "text/plain": [
       "<Figure size 576x396 with 1 Axes>"
      ]
     },
     "metadata": {
      "image/png": {
       "height": 369,
       "width": 484
      }
     },
     "output_type": "display_data"
    }
   ],
   "source": [
    "data = train.groupby('asin')['overall'].count().clip(upper=500)\n",
    "data.hist(bins=50)\n",
    "plt.suptitle(\"Ratings per item\")\n",
    "plt.show()"
   ]
  },
  {
   "cell_type": "markdown",
   "id": "4035c6c5",
   "metadata": {},
   "source": [
    "#### Distribution of ratings by products and users"
   ]
  },
  {
   "cell_type": "code",
   "execution_count": 11,
   "id": "2480fc7e",
   "metadata": {},
   "outputs": [
    {
     "data": {
      "image/png": "[encoded data removed]",
      "text/plain": [
       "<Figure size 1080x360 with 3 Axes>"
      ]
     },
     "metadata": {
      "image/png": {
       "height": 352,
       "width": 1072
      }
     },
     "output_type": "display_data"
    }
   ],
   "source": [
    "plt.figure(figsize=(15,5))\n",
    "\n",
    "# Plot distribution of overall product overalls\n",
    "ax1 = plt.subplot(1,3,1)\n",
    "df.overall.value_counts().sort_index().plot.bar(width=0.9, ax=ax1)\n",
    "ax1.set_title('Distribution of Overall Product Ratings', fontsize=14)\n",
    "ax1.set_xlabel('overall')\n",
    "plt.xticks(rotation=0)\n",
    "\n",
    "# Plot user distribution by average overall\n",
    "ax2 = plt.subplot(1,3,2)\n",
    "df.groupby('reviewerID').overall.mean().plot(kind='hist', bins=9, ax=ax2)\n",
    "ax2.set_title('Distribution of Average Ratings per User', fontsize=14)\n",
    "ax2.set_xlabel('overall')\n",
    "\n",
    "# Plot distribution of overall overalls among products\n",
    "ax3 = plt.subplot(1,3,3)\n",
    "df.groupby('reviewerID').overall.mean().plot(kind='hist', bins=9, ax=ax3)\n",
    "ax3.set_title('Distribution of Average Ratings per Product', fontsize=14)\n",
    "ax3.set_xlabel('overall')\n",
    "\n",
    "sns.despine(top=True, right=True)\n",
    "plt.tight_layout()\n",
    "plt.show()"
   ]
  },
  {
   "cell_type": "markdown",
   "id": "425bffe3",
   "metadata": {},
   "source": [
    "#### Most popular products"
   ]
  },
  {
   "cell_type": "code",
   "execution_count": 12,
   "id": "1fdeaad7",
   "metadata": {},
   "outputs": [
    {
     "data": {
      "text/plain": [
       "<Figure size 720x360 with 0 Axes>"
      ]
     },
     "metadata": {},
     "output_type": "display_data"
    },
    {
     "data": {
      "image/png": "[encoded data removed]",
      "text/plain": [
       "<Figure size 576x396 with 1 Axes>"
      ]
     },
     "metadata": {
      "image/png": {
       "height": 388,
       "width": 568
      }
     },
     "output_type": "display_data"
    }
   ],
   "source": [
    "plt.figure(figsize=(10,5))\n",
    "\n",
    "# Plot 10 most common products purchased\n",
    "_, ax = plt.subplots()\n",
    "df.asin.value_counts()[:10].sort_values().plot(kind='barh', width=0.9)#, ax=ax1)\n",
    "ax.set_xlabel('Number of Ratings')\n",
    "ax.set_title('Top 10 Most Rated Products', fontsize=14)\n",
    "\n",
    "sns.despine(top=True, right=True)\n",
    "plt.tight_layout()\n",
    "plt.show()"
   ]
  },
  {
   "cell_type": "markdown",
   "id": "f9d3fefd",
   "metadata": {},
   "source": [
    "#### Further reduce dataset by eliminating rarely rating reviewers and rarely rated items"
   ]
  },
  {
   "cell_type": "code",
   "execution_count": 13,
   "id": "bef68a12",
   "metadata": {},
   "outputs": [
    {
     "name": "stdout",
     "output_type": "stream",
     "text": [
      "The original data frame shape:\t(2070831, 6)\n",
      "The new data frame shape:\t(190068, 6)\n"
     ]
    }
   ],
   "source": [
    "min_asin_ratings = 200\n",
    "filter_asin = df['asin'].value_counts() > min_asin_ratings\n",
    "filter_asin = filter_asin[filter_asin].index.tolist()\n",
    "\n",
    "min_user_ratings = 10\n",
    "filter_users = df['reviewerID'].value_counts() > min_user_ratings\n",
    "filter_users = filter_users[filter_users].index.tolist()\n",
    "\n",
    "df_new = df[(df['asin'].isin(filter_asin)) & (df['reviewerID'].isin(filter_users))]\n",
    "print(f'The original data frame shape:\\t{df.shape}')\n",
    "print(f'The new data frame shape:\\t{df_new.shape}')"
   ]
  },
  {
   "cell_type": "markdown",
   "id": "100be713",
   "metadata": {},
   "source": [
    "###  Train-test split"
   ]
  },
  {
   "cell_type": "markdown",
   "id": "8b990802",
   "metadata": {},
   "source": [
    "#### Sort dataframe by unixReviewTime column"
   ]
  },
  {
   "cell_type": "code",
   "execution_count": 14,
   "id": "5ba90c05",
   "metadata": {},
   "outputs": [],
   "source": [
    "df = df_new.copy()\n",
    "df_temp = df.sort_values('unixReviewTime', axis=0, ascending=True, kind='mergesort', na_position='last', ignore_index=False)\n",
    "df_temp.reset_index(drop=True, inplace=True)\n",
    "train = df_temp.iloc[: -int(df.shape[0]/4)]\n",
    "test = df_temp.iloc[-int(df.shape[0]/4):]"
   ]
  },
  {
   "cell_type": "code",
   "execution_count": 15,
   "id": "9072f0a2",
   "metadata": {},
   "outputs": [
    {
     "data": {
      "text/html": [
       "<div>\n",
       "<style scoped>\n",
       "    .dataframe tbody tr th:only-of-type {\n",
       "        vertical-align: middle;\n",
       "    }\n",
       "\n",
       "    .dataframe tbody tr th {\n",
       "        vertical-align: top;\n",
       "    }\n",
       "\n",
       "    .dataframe thead th {\n",
       "        text-align: right;\n",
       "    }\n",
       "</style>\n",
       "<table border=\"1\" class=\"dataframe\">\n",
       "  <thead>\n",
       "    <tr style=\"text-align: right;\">\n",
       "      <th></th>\n",
       "      <th>overall</th>\n",
       "      <th>reviewerID</th>\n",
       "      <th>asin</th>\n",
       "      <th>reviewText</th>\n",
       "      <th>summary</th>\n",
       "      <th>unixReviewTime</th>\n",
       "    </tr>\n",
       "  </thead>\n",
       "  <tbody>\n",
       "    <tr>\n",
       "      <th>142546</th>\n",
       "      <td>5.0</td>\n",
       "      <td>ALFDZKCUT9HJZ</td>\n",
       "      <td>B000NK5VY2</td>\n",
       "      <td>excellent</td>\n",
       "      <td>Five Stars</td>\n",
       "      <td>1483488000</td>\n",
       "    </tr>\n",
       "    <tr>\n",
       "      <th>142547</th>\n",
       "      <td>3.0</td>\n",
       "      <td>A1SPGBQ7MX0HFZ</td>\n",
       "      <td>B000NPR2P8</td>\n",
       "      <td>This is a pretty good set but for automotive u...</td>\n",
       "      <td>Good for light work but heavier auto stuff mig...</td>\n",
       "      <td>1483488000</td>\n",
       "    </tr>\n",
       "    <tr>\n",
       "      <th>142548</th>\n",
       "      <td>5.0</td>\n",
       "      <td>A2O53SOXDCKE3X</td>\n",
       "      <td>B000NPXJS2</td>\n",
       "      <td>Would buy again, can never have enough clamps</td>\n",
       "      <td>Five Stars</td>\n",
       "      <td>1483488000</td>\n",
       "    </tr>\n",
       "    <tr>\n",
       "      <th>142549</th>\n",
       "      <td>4.0</td>\n",
       "      <td>A1DGSLVMMZ3DSM</td>\n",
       "      <td>B000NPXJS2</td>\n",
       "      <td>Love this product. It's super long! Make sure ...</td>\n",
       "      <td>Good Product</td>\n",
       "      <td>1483488000</td>\n",
       "    </tr>\n",
       "    <tr>\n",
       "      <th>142550</th>\n",
       "      <td>2.0</td>\n",
       "      <td>A387L2K1LZ2E10</td>\n",
       "      <td>B000P4W3LU</td>\n",
       "      <td>This is not very good.  It is flimsy...really ...</td>\n",
       "      <td>Flimsy plastic, adjuster and pot aluminum</td>\n",
       "      <td>1483488000</td>\n",
       "    </tr>\n",
       "  </tbody>\n",
       "</table>\n",
       "</div>"
      ],
      "text/plain": [
       "        overall      reviewerID        asin  \\\n",
       "142546      5.0   ALFDZKCUT9HJZ  B000NK5VY2   \n",
       "142547      3.0  A1SPGBQ7MX0HFZ  B000NPR2P8   \n",
       "142548      5.0  A2O53SOXDCKE3X  B000NPXJS2   \n",
       "142549      4.0  A1DGSLVMMZ3DSM  B000NPXJS2   \n",
       "142550      2.0  A387L2K1LZ2E10  B000P4W3LU   \n",
       "\n",
       "                                               reviewText  \\\n",
       "142546                                          excellent   \n",
       "142547  This is a pretty good set but for automotive u...   \n",
       "142548      Would buy again, can never have enough clamps   \n",
       "142549  Love this product. It's super long! Make sure ...   \n",
       "142550  This is not very good.  It is flimsy...really ...   \n",
       "\n",
       "                                                  summary  unixReviewTime  \n",
       "142546                                         Five Stars      1483488000  \n",
       "142547  Good for light work but heavier auto stuff mig...      1483488000  \n",
       "142548                                         Five Stars      1483488000  \n",
       "142549                                       Good Product      1483488000  \n",
       "142550          Flimsy plastic, adjuster and pot aluminum      1483488000  "
      ]
     },
     "execution_count": 15,
     "metadata": {},
     "output_type": "execute_result"
    }
   ],
   "source": [
    "train.tail()"
   ]
  },
  {
   "cell_type": "code",
   "execution_count": 16,
   "id": "8d1cd708",
   "metadata": {},
   "outputs": [
    {
     "data": {
      "text/html": [
       "<div>\n",
       "<style scoped>\n",
       "    .dataframe tbody tr th:only-of-type {\n",
       "        vertical-align: middle;\n",
       "    }\n",
       "\n",
       "    .dataframe tbody tr th {\n",
       "        vertical-align: top;\n",
       "    }\n",
       "\n",
       "    .dataframe thead th {\n",
       "        text-align: right;\n",
       "    }\n",
       "</style>\n",
       "<table border=\"1\" class=\"dataframe\">\n",
       "  <thead>\n",
       "    <tr style=\"text-align: right;\">\n",
       "      <th></th>\n",
       "      <th>overall</th>\n",
       "      <th>reviewerID</th>\n",
       "      <th>asin</th>\n",
       "      <th>reviewText</th>\n",
       "      <th>summary</th>\n",
       "      <th>unixReviewTime</th>\n",
       "    </tr>\n",
       "  </thead>\n",
       "  <tbody>\n",
       "    <tr>\n",
       "      <th>142551</th>\n",
       "      <td>5.0</td>\n",
       "      <td>A1SHO5KDEAVWYO</td>\n",
       "      <td>B000R8LH3E</td>\n",
       "      <td>Perfect hose. Finally I found a air line that ...</td>\n",
       "      <td>Perfect hose for my garage/shop</td>\n",
       "      <td>1483488000</td>\n",
       "    </tr>\n",
       "    <tr>\n",
       "      <th>142552</th>\n",
       "      <td>4.0</td>\n",
       "      <td>A162WTYANR6Y30</td>\n",
       "      <td>B000RB3XBA</td>\n",
       "      <td>Good magnet with expanding shaft.</td>\n",
       "      <td>Magnet</td>\n",
       "      <td>1483488000</td>\n",
       "    </tr>\n",
       "    <tr>\n",
       "      <th>142553</th>\n",
       "      <td>5.0</td>\n",
       "      <td>AQ5E531L0AB1U</td>\n",
       "      <td>B000RB38X8</td>\n",
       "      <td>This is just what my husband needed...he loves...</td>\n",
       "      <td>Perfect gift</td>\n",
       "      <td>1483488000</td>\n",
       "    </tr>\n",
       "    <tr>\n",
       "      <th>142554</th>\n",
       "      <td>5.0</td>\n",
       "      <td>A3TVW95ALPCQ5K</td>\n",
       "      <td>B000SQS6L6</td>\n",
       "      <td>Simple, easy to install, and looks good.</td>\n",
       "      <td>Simple, easy to install, and looks good.</td>\n",
       "      <td>1483488000</td>\n",
       "    </tr>\n",
       "    <tr>\n",
       "      <th>142555</th>\n",
       "      <td>5.0</td>\n",
       "      <td>AMMM79VK84MK0</td>\n",
       "      <td>B000TGDGLU</td>\n",
       "      <td>Arrived on time and as expected. This is the 3...</td>\n",
       "      <td>I like this product</td>\n",
       "      <td>1483488000</td>\n",
       "    </tr>\n",
       "  </tbody>\n",
       "</table>\n",
       "</div>"
      ],
      "text/plain": [
       "        overall      reviewerID        asin  \\\n",
       "142551      5.0  A1SHO5KDEAVWYO  B000R8LH3E   \n",
       "142552      4.0  A162WTYANR6Y30  B000RB3XBA   \n",
       "142553      5.0   AQ5E531L0AB1U  B000RB38X8   \n",
       "142554      5.0  A3TVW95ALPCQ5K  B000SQS6L6   \n",
       "142555      5.0   AMMM79VK84MK0  B000TGDGLU   \n",
       "\n",
       "                                               reviewText  \\\n",
       "142551  Perfect hose. Finally I found a air line that ...   \n",
       "142552                  Good magnet with expanding shaft.   \n",
       "142553  This is just what my husband needed...he loves...   \n",
       "142554           Simple, easy to install, and looks good.   \n",
       "142555  Arrived on time and as expected. This is the 3...   \n",
       "\n",
       "                                         summary  unixReviewTime  \n",
       "142551           Perfect hose for my garage/shop      1483488000  \n",
       "142552                                    Magnet      1483488000  \n",
       "142553                              Perfect gift      1483488000  \n",
       "142554  Simple, easy to install, and looks good.      1483488000  \n",
       "142555                       I like this product      1483488000  "
      ]
     },
     "execution_count": 16,
     "metadata": {},
     "output_type": "execute_result"
    }
   ],
   "source": [
    "test.head()"
   ]
  },
  {
   "cell_type": "markdown",
   "id": "7939c52c",
   "metadata": {},
   "source": [
    "### Sentiment model"
   ]
  },
  {
   "cell_type": "markdown",
   "id": "4f22cf10",
   "metadata": {},
   "source": [
    "#### Join text columns and clean them"
   ]
  },
  {
   "cell_type": "code",
   "execution_count": 18,
   "id": "e8cc5664",
   "metadata": {},
   "outputs": [
    {
     "data": {
      "text/plain": [
       "0    last thing needed another tape measure tired t...\n",
       "1    two work garage shop really great moving heavy...\n",
       "2    put base together twice works great could meas...\n",
       "3    thank stanley fat max truly one kind tape comp...\n",
       "4    one probably years old older ones lost might s...\n",
       "Name: clean, dtype: object"
      ]
     },
     "execution_count": 18,
     "metadata": {},
     "output_type": "execute_result"
    }
   ],
   "source": [
    "train[\"desc\"] = (\n",
    "    train[\"reviewText\"].astype(str) + \" \" + train[\"summary\"].astype(str)\n",
    ")\n",
    "# Remove html if any\n",
    "train[\"desc\"] = train[\"desc\"].str.replace(r\"(?:\\<.*?\\>)\", \" \", regex=True)\n",
    "# Clean and remove punctuation\n",
    "train[\"clean\"] = train[\"desc\"].pipe(hero.clean).pipe(hero.remove_punctuation)\n",
    "# Remove stop words\n",
    "hero.remove_stopwords(train[\"clean\"])\n",
    "\n",
    "train[\"clean\"].head()"
   ]
  },
  {
   "cell_type": "markdown",
   "id": "b39042e4",
   "metadata": {},
   "source": [
    "#### Calculate sentiment score"
   ]
  },
  {
   "cell_type": "markdown",
   "id": "94910bd6",
   "metadata": {},
   "source": [
    "#####  Read positive and negative lexicons"
   ]
  },
  {
   "cell_type": "code",
   "execution_count": 19,
   "id": "f43ea8cc",
   "metadata": {},
   "outputs": [],
   "source": [
    "pos = {}\n",
    "with open('./data/positive.txt', 'r', encoding=\"latin-1\") as p:\n",
    "    pos = set(map(str.strip, p))\n",
    "neg = {}\n",
    "with open('./data/negative.txt', 'r', encoding=\"latin-1\") as n:\n",
    "    neg = set(map(str.strip, n))"
   ]
  },
  {
   "cell_type": "markdown",
   "id": "802f001a",
   "metadata": {},
   "source": [
    "#####  Calculate numbers of positive and negative words  in each review"
   ]
  },
  {
   "cell_type": "code",
   "execution_count": 20,
   "id": "98a7b7f8",
   "metadata": {},
   "outputs": [],
   "source": [
    "train['pos'] = 0\n",
    "train['neg'] = 0\n",
    "for i in train.index:\n",
    "    for word in train.loc[i,'clean'].split():\n",
    "        if word in pos:\n",
    "            train.loc[i,'pos'] += 1\n",
    "        if word in neg:\n",
    "            train.loc[i,'neg'] += 1"
   ]
  },
  {
   "cell_type": "code",
   "execution_count": 21,
   "id": "0efc4be9",
   "metadata": {},
   "outputs": [
    {
     "data": {
      "text/html": [
       "<div>\n",
       "<style scoped>\n",
       "    .dataframe tbody tr th:only-of-type {\n",
       "        vertical-align: middle;\n",
       "    }\n",
       "\n",
       "    .dataframe tbody tr th {\n",
       "        vertical-align: top;\n",
       "    }\n",
       "\n",
       "    .dataframe thead th {\n",
       "        text-align: right;\n",
       "    }\n",
       "</style>\n",
       "<table border=\"1\" class=\"dataframe\">\n",
       "  <thead>\n",
       "    <tr style=\"text-align: right;\">\n",
       "      <th></th>\n",
       "      <th>overall</th>\n",
       "      <th>reviewerID</th>\n",
       "      <th>asin</th>\n",
       "      <th>reviewText</th>\n",
       "      <th>summary</th>\n",
       "      <th>unixReviewTime</th>\n",
       "      <th>desc</th>\n",
       "      <th>clean</th>\n",
       "      <th>pos</th>\n",
       "      <th>neg</th>\n",
       "    </tr>\n",
       "  </thead>\n",
       "  <tbody>\n",
       "    <tr>\n",
       "      <th>5000</th>\n",
       "      <td>5.0</td>\n",
       "      <td>A35MH4WEUGF0G1</td>\n",
       "      <td>B0016A72CC</td>\n",
       "      <td>This was definitely a good buy.  It takes a bi...</td>\n",
       "      <td>Very nice</td>\n",
       "      <td>1319673600</td>\n",
       "      <td>This was definitely a good buy.  It takes a bi...</td>\n",
       "      <td>definitely good buy takes bit getting used acc...</td>\n",
       "      <td>8</td>\n",
       "      <td>1</td>\n",
       "    </tr>\n",
       "    <tr>\n",
       "      <th>5001</th>\n",
       "      <td>5.0</td>\n",
       "      <td>A3COXRUY6JPML5</td>\n",
       "      <td>B00271N18S</td>\n",
       "      <td>These night lights are very bright for LED lig...</td>\n",
       "      <td>Bright. Light sensor could be somewhat more se...</td>\n",
       "      <td>1319673600</td>\n",
       "      <td>These night lights are very bright for LED lig...</td>\n",
       "      <td>night lights bright led lights perfect use com...</td>\n",
       "      <td>8</td>\n",
       "      <td>1</td>\n",
       "    </tr>\n",
       "    <tr>\n",
       "      <th>5002</th>\n",
       "      <td>5.0</td>\n",
       "      <td>A1JFNZ4UAMEZN3</td>\n",
       "      <td>B00002X20N</td>\n",
       "      <td>I purchased a box cutter and figured that some...</td>\n",
       "      <td>To me they are just box cutter blades.</td>\n",
       "      <td>1319760000</td>\n",
       "      <td>I purchased a box cutter and figured that some...</td>\n",
       "      <td>purchased box cutter figured sometime would pr...</td>\n",
       "      <td>0</td>\n",
       "      <td>0</td>\n",
       "    </tr>\n",
       "    <tr>\n",
       "      <th>5003</th>\n",
       "      <td>5.0</td>\n",
       "      <td>A1JFNZ4UAMEZN3</td>\n",
       "      <td>B00002X204</td>\n",
       "      <td>I was in need of a box cutter so I got on Amaz...</td>\n",
       "      <td>It is a box cutter.</td>\n",
       "      <td>1319760000</td>\n",
       "      <td>I was in need of a box cutter so I got on Amaz...</td>\n",
       "      <td>need box cutter got amazon com looked saw one ...</td>\n",
       "      <td>2</td>\n",
       "      <td>0</td>\n",
       "    </tr>\n",
       "    <tr>\n",
       "      <th>5004</th>\n",
       "      <td>5.0</td>\n",
       "      <td>A22GHD1G3OQTED</td>\n",
       "      <td>B0002YVBC0</td>\n",
       "      <td>This set of bags are nifty for carrying many s...</td>\n",
       "      <td>Nice variety of sizes; too bad they don't make...</td>\n",
       "      <td>1319760000</td>\n",
       "      <td>This set of bags are nifty for carrying many s...</td>\n",
       "      <td>set bags nifty carrying many small items use p...</td>\n",
       "      <td>6</td>\n",
       "      <td>2</td>\n",
       "    </tr>\n",
       "  </tbody>\n",
       "</table>\n",
       "</div>"
      ],
      "text/plain": [
       "      overall      reviewerID        asin  \\\n",
       "5000      5.0  A35MH4WEUGF0G1  B0016A72CC   \n",
       "5001      5.0  A3COXRUY6JPML5  B00271N18S   \n",
       "5002      5.0  A1JFNZ4UAMEZN3  B00002X20N   \n",
       "5003      5.0  A1JFNZ4UAMEZN3  B00002X204   \n",
       "5004      5.0  A22GHD1G3OQTED  B0002YVBC0   \n",
       "\n",
       "                                             reviewText  \\\n",
       "5000  This was definitely a good buy.  It takes a bi...   \n",
       "5001  These night lights are very bright for LED lig...   \n",
       "5002  I purchased a box cutter and figured that some...   \n",
       "5003  I was in need of a box cutter so I got on Amaz...   \n",
       "5004  This set of bags are nifty for carrying many s...   \n",
       "\n",
       "                                                summary  unixReviewTime  \\\n",
       "5000                                          Very nice      1319673600   \n",
       "5001  Bright. Light sensor could be somewhat more se...      1319673600   \n",
       "5002             To me they are just box cutter blades.      1319760000   \n",
       "5003                                It is a box cutter.      1319760000   \n",
       "5004  Nice variety of sizes; too bad they don't make...      1319760000   \n",
       "\n",
       "                                                   desc  \\\n",
       "5000  This was definitely a good buy.  It takes a bi...   \n",
       "5001  These night lights are very bright for LED lig...   \n",
       "5002  I purchased a box cutter and figured that some...   \n",
       "5003  I was in need of a box cutter so I got on Amaz...   \n",
       "5004  This set of bags are nifty for carrying many s...   \n",
       "\n",
       "                                                  clean  pos  neg  \n",
       "5000  definitely good buy takes bit getting used acc...    8    1  \n",
       "5001  night lights bright led lights perfect use com...    8    1  \n",
       "5002  purchased box cutter figured sometime would pr...    0    0  \n",
       "5003  need box cutter got amazon com looked saw one ...    2    0  \n",
       "5004  set bags nifty carrying many small items use p...    6    2  "
      ]
     },
     "execution_count": 21,
     "metadata": {},
     "output_type": "execute_result"
    }
   ],
   "source": [
    "train[5000:5005]"
   ]
  },
  {
   "cell_type": "code",
   "execution_count": 149,
   "id": "7b17c970",
   "metadata": {},
   "outputs": [],
   "source": [
    "train['dif']= np.ceil(((train['pos'] - train['neg'])/(train['pos'] + train['neg'] + 0.01) + 1) *2.5)"
   ]
  },
  {
   "cell_type": "code",
   "execution_count": 23,
   "id": "acd58e2f",
   "metadata": {},
   "outputs": [
    {
     "data": {
      "text/html": [
       "<div>\n",
       "<style scoped>\n",
       "    .dataframe tbody tr th:only-of-type {\n",
       "        vertical-align: middle;\n",
       "    }\n",
       "\n",
       "    .dataframe tbody tr th {\n",
       "        vertical-align: top;\n",
       "    }\n",
       "\n",
       "    .dataframe thead th {\n",
       "        text-align: right;\n",
       "    }\n",
       "</style>\n",
       "<table border=\"1\" class=\"dataframe\">\n",
       "  <thead>\n",
       "    <tr style=\"text-align: right;\">\n",
       "      <th></th>\n",
       "      <th>0</th>\n",
       "      <th>1</th>\n",
       "      <th>2</th>\n",
       "      <th>3</th>\n",
       "      <th>4</th>\n",
       "      <th>5</th>\n",
       "      <th>6</th>\n",
       "      <th>7</th>\n",
       "      <th>8</th>\n",
       "      <th>9</th>\n",
       "      <th>10</th>\n",
       "      <th>11</th>\n",
       "      <th>12</th>\n",
       "      <th>13</th>\n",
       "      <th>14</th>\n",
       "      <th>15</th>\n",
       "      <th>16</th>\n",
       "      <th>17</th>\n",
       "      <th>18</th>\n",
       "      <th>19</th>\n",
       "    </tr>\n",
       "  </thead>\n",
       "  <tbody>\n",
       "    <tr>\n",
       "      <th>overall</th>\n",
       "      <td>4.0</td>\n",
       "      <td>5.0</td>\n",
       "      <td>5.0</td>\n",
       "      <td>4.0</td>\n",
       "      <td>5.0</td>\n",
       "      <td>4.0</td>\n",
       "      <td>5.0</td>\n",
       "      <td>5.0</td>\n",
       "      <td>5.0</td>\n",
       "      <td>5.0</td>\n",
       "      <td>4.0</td>\n",
       "      <td>4.0</td>\n",
       "      <td>5.0</td>\n",
       "      <td>5.0</td>\n",
       "      <td>4.0</td>\n",
       "      <td>5.0</td>\n",
       "      <td>5.0</td>\n",
       "      <td>5.0</td>\n",
       "      <td>4.0</td>\n",
       "      <td>5.0</td>\n",
       "    </tr>\n",
       "    <tr>\n",
       "      <th>dif</th>\n",
       "      <td>1.0</td>\n",
       "      <td>3.0</td>\n",
       "      <td>5.0</td>\n",
       "      <td>4.0</td>\n",
       "      <td>4.0</td>\n",
       "      <td>3.0</td>\n",
       "      <td>3.0</td>\n",
       "      <td>3.0</td>\n",
       "      <td>4.0</td>\n",
       "      <td>4.0</td>\n",
       "      <td>3.0</td>\n",
       "      <td>3.0</td>\n",
       "      <td>5.0</td>\n",
       "      <td>5.0</td>\n",
       "      <td>2.0</td>\n",
       "      <td>4.0</td>\n",
       "      <td>4.0</td>\n",
       "      <td>4.0</td>\n",
       "      <td>5.0</td>\n",
       "      <td>4.0</td>\n",
       "    </tr>\n",
       "  </tbody>\n",
       "</table>\n",
       "</div>"
      ],
      "text/plain": [
       "          0    1    2    3    4    5    6    7    8    9    10   11   12   13  \\\n",
       "overall  4.0  5.0  5.0  4.0  5.0  4.0  5.0  5.0  5.0  5.0  4.0  4.0  5.0  5.0   \n",
       "dif      1.0  3.0  5.0  4.0  4.0  3.0  3.0  3.0  4.0  4.0  3.0  3.0  5.0  5.0   \n",
       "\n",
       "          14   15   16   17   18   19  \n",
       "overall  4.0  5.0  5.0  5.0  4.0  5.0  \n",
       "dif      2.0  4.0  4.0  4.0  5.0  4.0  "
      ]
     },
     "execution_count": 23,
     "metadata": {},
     "output_type": "execute_result"
    }
   ],
   "source": [
    "train[['overall','dif']].head(20).T"
   ]
  },
  {
   "cell_type": "markdown",
   "id": "555934a5",
   "metadata": {},
   "source": [
    "OBSERVATION: \"dif\" is quite different from \"overall\". Starting to doubt if it is useful at all. "
   ]
  },
  {
   "cell_type": "code",
   "execution_count": 151,
   "id": "51b4e6c0",
   "metadata": {},
   "outputs": [
    {
     "data": {
      "image/png": "[encoded data removed]",
      "text/plain": [
       "<Figure size 576x396 with 1 Axes>"
      ]
     },
     "metadata": {
      "image/png": {
       "height": 369,
       "width": 495
      }
     },
     "output_type": "display_data"
    }
   ],
   "source": [
    "train[['overall']].hist()\n",
    "plt.suptitle(\"Relative normalized difference between numbers\\n of positive and negative words in review\")\n",
    "plt.show()"
   ]
  },
  {
   "cell_type": "markdown",
   "id": "5a614fb2",
   "metadata": {},
   "source": [
    "##### Compare histograms of overall and calculated dif"
   ]
  },
  {
   "cell_type": "code",
   "execution_count": 25,
   "id": "71c365eb",
   "metadata": {},
   "outputs": [
    {
     "data": {
      "text/plain": [
       "Text(0.5, 0.98, 'overall vs dif')"
      ]
     },
     "execution_count": 25,
     "metadata": {},
     "output_type": "execute_result"
    },
    {
     "data": {
      "image/png": "[encoded data removed]",
      "text/plain": [
       "<Figure size 576x396 with 1 Axes>"
      ]
     },
     "metadata": {
      "image/png": {
       "height": 369,
       "width": 490
      }
     },
     "output_type": "display_data"
    }
   ],
   "source": [
    "plt.hist(train.loc[:10000][['overall','dif']])\n",
    "plt.legend(['overall','dif'])\n",
    "plt.suptitle(\"overall vs dif\")"
   ]
  },
  {
   "cell_type": "markdown",
   "id": "589ea75b",
   "metadata": {},
   "source": [
    "OBSERVATION: \"dif\" rating shows milder sloped distribution, giving more of 3 and 4 marks"
   ]
  },
  {
   "cell_type": "markdown",
   "id": "c57a0f98",
   "metadata": {},
   "source": [
    "#### Correlation between overall and dif"
   ]
  },
  {
   "cell_type": "code",
   "execution_count": 26,
   "id": "5d5f158c",
   "metadata": {},
   "outputs": [
    {
     "data": {
      "text/html": [
       "<div>\n",
       "<style scoped>\n",
       "    .dataframe tbody tr th:only-of-type {\n",
       "        vertical-align: middle;\n",
       "    }\n",
       "\n",
       "    .dataframe tbody tr th {\n",
       "        vertical-align: top;\n",
       "    }\n",
       "\n",
       "    .dataframe thead th {\n",
       "        text-align: right;\n",
       "    }\n",
       "</style>\n",
       "<table border=\"1\" class=\"dataframe\">\n",
       "  <thead>\n",
       "    <tr style=\"text-align: right;\">\n",
       "      <th></th>\n",
       "      <th>overall</th>\n",
       "      <th>dif</th>\n",
       "    </tr>\n",
       "  </thead>\n",
       "  <tbody>\n",
       "    <tr>\n",
       "      <th>overall</th>\n",
       "      <td>1.0000</td>\n",
       "      <td>0.3633</td>\n",
       "    </tr>\n",
       "    <tr>\n",
       "      <th>dif</th>\n",
       "      <td>0.3633</td>\n",
       "      <td>1.0000</td>\n",
       "    </tr>\n",
       "  </tbody>\n",
       "</table>\n",
       "</div>"
      ],
      "text/plain": [
       "         overall     dif\n",
       "overall   1.0000  0.3633\n",
       "dif       0.3633  1.0000"
      ]
     },
     "execution_count": 26,
     "metadata": {},
     "output_type": "execute_result"
    }
   ],
   "source": [
    "train.loc[:100000][['overall','dif']].corr()"
   ]
  },
  {
   "cell_type": "markdown",
   "id": "7c9a01cd",
   "metadata": {},
   "source": [
    "OBSERVATION: the correlation is not particulary high due to much lower number of \"5\"s."
   ]
  },
  {
   "cell_type": "markdown",
   "id": "ddb67895",
   "metadata": {},
   "source": [
    "### Surprise"
   ]
  },
  {
   "cell_type": "code",
   "execution_count": 27,
   "id": "973030e1",
   "metadata": {},
   "outputs": [],
   "source": [
    "reader = Reader(rating_scale=(1, 5))"
   ]
  },
  {
   "cell_type": "code",
   "execution_count": 28,
   "id": "cbc7e654",
   "metadata": {},
   "outputs": [],
   "source": [
    "test['dif'] = test['overall'] "
   ]
  },
  {
   "cell_type": "markdown",
   "id": "4d7d0dae",
   "metadata": {},
   "source": [
    "#### Set train and test"
   ]
  },
  {
   "cell_type": "code",
   "execution_count": 30,
   "id": "bf5cbd04",
   "metadata": {},
   "outputs": [],
   "source": [
    "train_set_from_df = Dataset.load_from_df(train[['reviewerID', 'asin', 'dif']], reader) \n",
    "train_set = train_set_from_df.build_full_trainset()\n",
    "\n",
    "testset = [test.loc[i][['reviewerID', 'asin', 'dif']].to_list() for i in test.index.tolist()]"
   ]
  },
  {
   "cell_type": "markdown",
   "id": "259d5358",
   "metadata": {},
   "source": [
    "####  Compare algorithms in cross-validation test"
   ]
  },
  {
   "cell_type": "raw",
   "id": "20e70c3b",
   "metadata": {},
   "source": [
    "benchmark = []\n",
    "# Iterate over all algorithms\n",
    "for algorithm in [SVD(), SVDpp(), SlopeOne(), NMF(), NormalPredictor(), KNNBaseline(), KNNBasic(), KNNWithMeans(), KNNWithZScore(), BaselineOnly(), CoClustering()]:\n",
    "    # Perform cross validation\n",
    "    results = cross_validate(algorithm, train_set_from_df, measures=['RMSE'], cv=3, verbose=False)\n",
    "    \n",
    "    # Get results & append algorithm name\n",
    "    tmp = pd.DataFrame.from_dict(results).mean(axis=0)\n",
    "    tmp = tmp.append(pd.Series([str(algorithm).split(' ')[0].split('.')[-1]], index=['Algorithm']))\n",
    "    benchmark.append(tmp)\n",
    "    \n",
    "pd.DataFrame(benchmark).set_index('Algorithm').sort_values('test_rmse')  "
   ]
  },
  {
   "cell_type": "markdown",
   "id": "46c554e5",
   "metadata": {},
   "source": [
    "### Let's use KNNBaseline"
   ]
  },
  {
   "cell_type": "markdown",
   "id": "d27f1ac9",
   "metadata": {},
   "source": [
    "#### Set algorithm options and cross-validate it"
   ]
  },
  {
   "cell_type": "code",
   "execution_count": 123,
   "id": "9cd9e7b9",
   "metadata": {},
   "outputs": [
    {
     "name": "stdout",
     "output_type": "stream",
     "text": [
      "Estimating biases using als...\n",
      "Computing the msd similarity matrix...\n",
      "Done computing similarity matrix.\n",
      "Estimating biases using als...\n",
      "Computing the msd similarity matrix...\n",
      "Done computing similarity matrix.\n",
      "Estimating biases using als...\n",
      "Computing the msd similarity matrix...\n",
      "Done computing similarity matrix.\n"
     ]
    },
    {
     "data": {
      "text/plain": [
       "{'test_rmse': array([0.92732337, 0.93163052, 0.94006423]),\n",
       " 'fit_time': (98.09434604644775, 94.69575381278992, 89.26835513114929),\n",
       " 'test_time': (9.46285104751587, 9.02027416229248, 9.476700067520142)}"
      ]
     },
     "execution_count": 123,
     "metadata": {},
     "output_type": "execute_result"
    }
   ],
   "source": [
    "algo = KNNBaseline(n_epochs=3,\n",
    "               method='als',\n",
    "               reg_u= 10,\n",
    "               reg_i=200)\n",
    "cross_validate(algo, train_set_from_df, measures=['RMSE'], cv=3, verbose=False)"
   ]
  },
  {
   "cell_type": "code",
   "execution_count": 124,
   "id": "c27f7287",
   "metadata": {},
   "outputs": [
    {
     "name": "stdout",
     "output_type": "stream",
     "text": [
      "Estimating biases using als...\n",
      "Computing the msd similarity matrix...\n",
      "Done computing similarity matrix.\n",
      "RMSE: 1.0380\n"
     ]
    },
    {
     "data": {
      "text/plain": [
       "1.0380166109277742"
      ]
     },
     "execution_count": 124,
     "metadata": {},
     "output_type": "execute_result"
    }
   ],
   "source": [
    "predictions = algo.fit(train_set).test(testset)\n",
    "rmse(predictions)"
   ]
  },
  {
   "cell_type": "markdown",
   "id": "cf00ceb9",
   "metadata": {},
   "source": [
    "#### Utility functions for prediction results"
   ]
  },
  {
   "cell_type": "code",
   "execution_count": 125,
   "id": "482031a9",
   "metadata": {},
   "outputs": [],
   "source": [
    "def get_Iu(uid):\n",
    "    \"\"\" return the number of items rated by given user\n",
    "    args: \n",
    "      uid: the id of the user\n",
    "    returns: \n",
    "      the number of items rated by the user\n",
    "    \"\"\"\n",
    "    try:\n",
    "        return len(train_set.ur[train_set.to_inner_uid(uid)])\n",
    "    except ValueError: # user was not part of the trainset\n",
    "        return 0\n",
    "    \n",
    "def get_Ui(iid):\n",
    "    \"\"\" return number of users that have rated given item\n",
    "    args:\n",
    "      iid: the raw id of the item\n",
    "    returns:\n",
    "      the number of users that have rated the item.\n",
    "    \"\"\"\n",
    "    try: \n",
    "        return len(train_set.ir[train_set.to_inner_iid(iid)])\n",
    "    except ValueError:\n",
    "        return 0\n",
    "    "
   ]
  },
  {
   "cell_type": "code",
   "execution_count": 126,
   "id": "1d16d329",
   "metadata": {},
   "outputs": [],
   "source": [
    "res_df = pd.DataFrame(predictions, columns=['uid', 'iid', 'rui', 'est', 'details'])\n",
    "res_df['Iu'] = res_df.uid.apply(get_Iu)\n",
    "res_df['Ui'] = res_df.iid.apply(get_Ui)\n",
    "res_df['err'] = abs(res_df.est - res_df.rui)\n",
    "best_predictions = res_df.sort_values(by='err')[:10]\n",
    "worst_predictions = res_df.sort_values(by='err')[-10:]"
   ]
  },
  {
   "cell_type": "markdown",
   "id": "1a39e69d",
   "metadata": {},
   "source": [
    "#### Predictions dataframe"
   ]
  },
  {
   "cell_type": "code",
   "execution_count": 127,
   "id": "e5dcfb07",
   "metadata": {},
   "outputs": [],
   "source": [
    "res_df = pd.DataFrame(predictions, columns=['uid', 'iid', 'rui', 'est', 'details'])"
   ]
  },
  {
   "cell_type": "code",
   "execution_count": 128,
   "id": "1523b87f",
   "metadata": {},
   "outputs": [
    {
     "data": {
      "text/html": [
       "<div>\n",
       "<style scoped>\n",
       "    .dataframe tbody tr th:only-of-type {\n",
       "        vertical-align: middle;\n",
       "    }\n",
       "\n",
       "    .dataframe tbody tr th {\n",
       "        vertical-align: top;\n",
       "    }\n",
       "\n",
       "    .dataframe thead th {\n",
       "        text-align: right;\n",
       "    }\n",
       "</style>\n",
       "<table border=\"1\" class=\"dataframe\">\n",
       "  <thead>\n",
       "    <tr style=\"text-align: right;\">\n",
       "      <th></th>\n",
       "      <th>uid</th>\n",
       "      <th>iid</th>\n",
       "      <th>rui</th>\n",
       "      <th>est</th>\n",
       "      <th>details</th>\n",
       "    </tr>\n",
       "  </thead>\n",
       "  <tbody>\n",
       "    <tr>\n",
       "      <th>0</th>\n",
       "      <td>A1SHO5KDEAVWYO</td>\n",
       "      <td>B000R8LH3E</td>\n",
       "      <td>5.0</td>\n",
       "      <td>3.0858</td>\n",
       "      <td>{'actual_k': 1, 'was_impossible': False}</td>\n",
       "    </tr>\n",
       "    <tr>\n",
       "      <th>1</th>\n",
       "      <td>A162WTYANR6Y30</td>\n",
       "      <td>B000RB3XBA</td>\n",
       "      <td>4.0</td>\n",
       "      <td>4.4995</td>\n",
       "      <td>{'actual_k': 0, 'was_impossible': False}</td>\n",
       "    </tr>\n",
       "    <tr>\n",
       "      <th>2</th>\n",
       "      <td>AQ5E531L0AB1U</td>\n",
       "      <td>B000RB38X8</td>\n",
       "      <td>5.0</td>\n",
       "      <td>4.3956</td>\n",
       "      <td>{'actual_k': 14, 'was_impossible': False}</td>\n",
       "    </tr>\n",
       "    <tr>\n",
       "      <th>3</th>\n",
       "      <td>A3TVW95ALPCQ5K</td>\n",
       "      <td>B000SQS6L6</td>\n",
       "      <td>5.0</td>\n",
       "      <td>4.9204</td>\n",
       "      <td>{'actual_k': 40, 'was_impossible': False}</td>\n",
       "    </tr>\n",
       "    <tr>\n",
       "      <th>4</th>\n",
       "      <td>AMMM79VK84MK0</td>\n",
       "      <td>B000TGDGLU</td>\n",
       "      <td>5.0</td>\n",
       "      <td>4.3352</td>\n",
       "      <td>{'was_impossible': False}</td>\n",
       "    </tr>\n",
       "    <tr>\n",
       "      <th>...</th>\n",
       "      <td>...</td>\n",
       "      <td>...</td>\n",
       "      <td>...</td>\n",
       "      <td>...</td>\n",
       "      <td>...</td>\n",
       "    </tr>\n",
       "    <tr>\n",
       "      <th>47512</th>\n",
       "      <td>A10FAGRB34RUCH</td>\n",
       "      <td>B01DCHA3R2</td>\n",
       "      <td>5.0</td>\n",
       "      <td>4.4585</td>\n",
       "      <td>{'actual_k': 0, 'was_impossible': False}</td>\n",
       "    </tr>\n",
       "    <tr>\n",
       "      <th>47513</th>\n",
       "      <td>A9NZKWA4AVHNP</td>\n",
       "      <td>B01EZV35QU</td>\n",
       "      <td>5.0</td>\n",
       "      <td>4.1359</td>\n",
       "      <td>{'actual_k': 1, 'was_impossible': False}</td>\n",
       "    </tr>\n",
       "    <tr>\n",
       "      <th>47514</th>\n",
       "      <td>APQ85K5KNZ83X</td>\n",
       "      <td>B01EVYG9N2</td>\n",
       "      <td>5.0</td>\n",
       "      <td>4.3772</td>\n",
       "      <td>{'actual_k': 0, 'was_impossible': False}</td>\n",
       "    </tr>\n",
       "    <tr>\n",
       "      <th>47515</th>\n",
       "      <td>A27N8SKV3EBVQG</td>\n",
       "      <td>B01FX6JRWM</td>\n",
       "      <td>5.0</td>\n",
       "      <td>4.7111</td>\n",
       "      <td>{'was_impossible': False}</td>\n",
       "    </tr>\n",
       "    <tr>\n",
       "      <th>47516</th>\n",
       "      <td>A2S5EPJ451WL3I</td>\n",
       "      <td>B01G8E3T4K</td>\n",
       "      <td>4.0</td>\n",
       "      <td>4.4133</td>\n",
       "      <td>{'actual_k': 0, 'was_impossible': False}</td>\n",
       "    </tr>\n",
       "  </tbody>\n",
       "</table>\n",
       "<p>47517 rows × 5 columns</p>\n",
       "</div>"
      ],
      "text/plain": [
       "                  uid         iid  rui     est  \\\n",
       "0      A1SHO5KDEAVWYO  B000R8LH3E  5.0  3.0858   \n",
       "1      A162WTYANR6Y30  B000RB3XBA  4.0  4.4995   \n",
       "2       AQ5E531L0AB1U  B000RB38X8  5.0  4.3956   \n",
       "3      A3TVW95ALPCQ5K  B000SQS6L6  5.0  4.9204   \n",
       "4       AMMM79VK84MK0  B000TGDGLU  5.0  4.3352   \n",
       "...               ...         ...  ...     ...   \n",
       "47512  A10FAGRB34RUCH  B01DCHA3R2  5.0  4.4585   \n",
       "47513   A9NZKWA4AVHNP  B01EZV35QU  5.0  4.1359   \n",
       "47514   APQ85K5KNZ83X  B01EVYG9N2  5.0  4.3772   \n",
       "47515  A27N8SKV3EBVQG  B01FX6JRWM  5.0  4.7111   \n",
       "47516  A2S5EPJ451WL3I  B01G8E3T4K  4.0  4.4133   \n",
       "\n",
       "                                         details  \n",
       "0       {'actual_k': 1, 'was_impossible': False}  \n",
       "1       {'actual_k': 0, 'was_impossible': False}  \n",
       "2      {'actual_k': 14, 'was_impossible': False}  \n",
       "3      {'actual_k': 40, 'was_impossible': False}  \n",
       "4                      {'was_impossible': False}  \n",
       "...                                          ...  \n",
       "47512   {'actual_k': 0, 'was_impossible': False}  \n",
       "47513   {'actual_k': 1, 'was_impossible': False}  \n",
       "47514   {'actual_k': 0, 'was_impossible': False}  \n",
       "47515                  {'was_impossible': False}  \n",
       "47516   {'actual_k': 0, 'was_impossible': False}  \n",
       "\n",
       "[47517 rows x 5 columns]"
      ]
     },
     "execution_count": 128,
     "metadata": {},
     "output_type": "execute_result"
    }
   ],
   "source": [
    "res_df"
   ]
  },
  {
   "cell_type": "code",
   "execution_count": 129,
   "id": "5fd0dbfb",
   "metadata": {},
   "outputs": [
    {
     "data": {
      "text/html": [
       "<div>\n",
       "<style scoped>\n",
       "    .dataframe tbody tr th:only-of-type {\n",
       "        vertical-align: middle;\n",
       "    }\n",
       "\n",
       "    .dataframe tbody tr th {\n",
       "        vertical-align: top;\n",
       "    }\n",
       "\n",
       "    .dataframe thead th {\n",
       "        text-align: right;\n",
       "    }\n",
       "</style>\n",
       "<table border=\"1\" class=\"dataframe\">\n",
       "  <thead>\n",
       "    <tr style=\"text-align: right;\">\n",
       "      <th></th>\n",
       "      <th>uid</th>\n",
       "      <th>iid</th>\n",
       "      <th>rui</th>\n",
       "      <th>est</th>\n",
       "      <th>details</th>\n",
       "      <th>Iu</th>\n",
       "      <th>Ui</th>\n",
       "      <th>err</th>\n",
       "    </tr>\n",
       "  </thead>\n",
       "  <tbody>\n",
       "    <tr>\n",
       "      <th>8584</th>\n",
       "      <td>A1BYXXIH7BXIHZ</td>\n",
       "      <td>B000X1NZPI</td>\n",
       "      <td>5.0</td>\n",
       "      <td>5.0</td>\n",
       "      <td>{'actual_k': 2, 'was_impossible': False}</td>\n",
       "      <td>4</td>\n",
       "      <td>104</td>\n",
       "      <td>0.0</td>\n",
       "    </tr>\n",
       "    <tr>\n",
       "      <th>37689</th>\n",
       "      <td>A2NM3OR66LK5HE</td>\n",
       "      <td>B00132H4OE</td>\n",
       "      <td>5.0</td>\n",
       "      <td>5.0</td>\n",
       "      <td>{'actual_k': 6, 'was_impossible': False}</td>\n",
       "      <td>5</td>\n",
       "      <td>84</td>\n",
       "      <td>0.0</td>\n",
       "    </tr>\n",
       "    <tr>\n",
       "      <th>37693</th>\n",
       "      <td>A3AB551HAJPXGC</td>\n",
       "      <td>B0010DHFTK</td>\n",
       "      <td>5.0</td>\n",
       "      <td>5.0</td>\n",
       "      <td>{'actual_k': 2, 'was_impossible': False}</td>\n",
       "      <td>1</td>\n",
       "      <td>168</td>\n",
       "      <td>0.0</td>\n",
       "    </tr>\n",
       "    <tr>\n",
       "      <th>45238</th>\n",
       "      <td>A2G93HLVITJE6N</td>\n",
       "      <td>B000P6G74M</td>\n",
       "      <td>5.0</td>\n",
       "      <td>5.0</td>\n",
       "      <td>{'actual_k': 1, 'was_impossible': False}</td>\n",
       "      <td>3</td>\n",
       "      <td>156</td>\n",
       "      <td>0.0</td>\n",
       "    </tr>\n",
       "    <tr>\n",
       "      <th>37695</th>\n",
       "      <td>A2NM3OR66LK5HE</td>\n",
       "      <td>B00132H4OE</td>\n",
       "      <td>5.0</td>\n",
       "      <td>5.0</td>\n",
       "      <td>{'actual_k': 6, 'was_impossible': False}</td>\n",
       "      <td>5</td>\n",
       "      <td>84</td>\n",
       "      <td>0.0</td>\n",
       "    </tr>\n",
       "    <tr>\n",
       "      <th>19364</th>\n",
       "      <td>A20SOBVAXWHSQ8</td>\n",
       "      <td>B000TGDGLU</td>\n",
       "      <td>5.0</td>\n",
       "      <td>5.0</td>\n",
       "      <td>{'actual_k': 1, 'was_impossible': False}</td>\n",
       "      <td>2</td>\n",
       "      <td>94</td>\n",
       "      <td>0.0</td>\n",
       "    </tr>\n",
       "    <tr>\n",
       "      <th>22446</th>\n",
       "      <td>A14V5S42XCL7IB</td>\n",
       "      <td>B0009V1WP2</td>\n",
       "      <td>5.0</td>\n",
       "      <td>5.0</td>\n",
       "      <td>{'actual_k': 2, 'was_impossible': False}</td>\n",
       "      <td>4</td>\n",
       "      <td>98</td>\n",
       "      <td>0.0</td>\n",
       "    </tr>\n",
       "    <tr>\n",
       "      <th>19361</th>\n",
       "      <td>A38S1KZE0GNT8G</td>\n",
       "      <td>B000O8OTNC</td>\n",
       "      <td>5.0</td>\n",
       "      <td>5.0</td>\n",
       "      <td>{'actual_k': 4, 'was_impossible': False}</td>\n",
       "      <td>6</td>\n",
       "      <td>77</td>\n",
       "      <td>0.0</td>\n",
       "    </tr>\n",
       "    <tr>\n",
       "      <th>37687</th>\n",
       "      <td>A3AB551HAJPXGC</td>\n",
       "      <td>B0010DHFTK</td>\n",
       "      <td>5.0</td>\n",
       "      <td>5.0</td>\n",
       "      <td>{'actual_k': 2, 'was_impossible': False}</td>\n",
       "      <td>1</td>\n",
       "      <td>168</td>\n",
       "      <td>0.0</td>\n",
       "    </tr>\n",
       "    <tr>\n",
       "      <th>43613</th>\n",
       "      <td>A1S0P16TIUH3RV</td>\n",
       "      <td>B00HXD2VV8</td>\n",
       "      <td>5.0</td>\n",
       "      <td>5.0</td>\n",
       "      <td>{'actual_k': 1, 'was_impossible': False}</td>\n",
       "      <td>3</td>\n",
       "      <td>67</td>\n",
       "      <td>0.0</td>\n",
       "    </tr>\n",
       "  </tbody>\n",
       "</table>\n",
       "</div>"
      ],
      "text/plain": [
       "                  uid         iid  rui  est  \\\n",
       "8584   A1BYXXIH7BXIHZ  B000X1NZPI  5.0  5.0   \n",
       "37689  A2NM3OR66LK5HE  B00132H4OE  5.0  5.0   \n",
       "37693  A3AB551HAJPXGC  B0010DHFTK  5.0  5.0   \n",
       "45238  A2G93HLVITJE6N  B000P6G74M  5.0  5.0   \n",
       "37695  A2NM3OR66LK5HE  B00132H4OE  5.0  5.0   \n",
       "19364  A20SOBVAXWHSQ8  B000TGDGLU  5.0  5.0   \n",
       "22446  A14V5S42XCL7IB  B0009V1WP2  5.0  5.0   \n",
       "19361  A38S1KZE0GNT8G  B000O8OTNC  5.0  5.0   \n",
       "37687  A3AB551HAJPXGC  B0010DHFTK  5.0  5.0   \n",
       "43613  A1S0P16TIUH3RV  B00HXD2VV8  5.0  5.0   \n",
       "\n",
       "                                        details  Iu   Ui  err  \n",
       "8584   {'actual_k': 2, 'was_impossible': False}   4  104  0.0  \n",
       "37689  {'actual_k': 6, 'was_impossible': False}   5   84  0.0  \n",
       "37693  {'actual_k': 2, 'was_impossible': False}   1  168  0.0  \n",
       "45238  {'actual_k': 1, 'was_impossible': False}   3  156  0.0  \n",
       "37695  {'actual_k': 6, 'was_impossible': False}   5   84  0.0  \n",
       "19364  {'actual_k': 1, 'was_impossible': False}   2   94  0.0  \n",
       "22446  {'actual_k': 2, 'was_impossible': False}   4   98  0.0  \n",
       "19361  {'actual_k': 4, 'was_impossible': False}   6   77  0.0  \n",
       "37687  {'actual_k': 2, 'was_impossible': False}   1  168  0.0  \n",
       "43613  {'actual_k': 1, 'was_impossible': False}   3   67  0.0  "
      ]
     },
     "execution_count": 129,
     "metadata": {},
     "output_type": "execute_result"
    }
   ],
   "source": [
    "best_predictions"
   ]
  },
  {
   "cell_type": "code",
   "execution_count": 130,
   "id": "fe0bcf4b",
   "metadata": {},
   "outputs": [
    {
     "data": {
      "text/html": [
       "<div>\n",
       "<style scoped>\n",
       "    .dataframe tbody tr th:only-of-type {\n",
       "        vertical-align: middle;\n",
       "    }\n",
       "\n",
       "    .dataframe tbody tr th {\n",
       "        vertical-align: top;\n",
       "    }\n",
       "\n",
       "    .dataframe thead th {\n",
       "        text-align: right;\n",
       "    }\n",
       "</style>\n",
       "<table border=\"1\" class=\"dataframe\">\n",
       "  <thead>\n",
       "    <tr style=\"text-align: right;\">\n",
       "      <th></th>\n",
       "      <th>uid</th>\n",
       "      <th>iid</th>\n",
       "      <th>rui</th>\n",
       "      <th>est</th>\n",
       "      <th>details</th>\n",
       "      <th>Iu</th>\n",
       "      <th>Ui</th>\n",
       "      <th>err</th>\n",
       "    </tr>\n",
       "  </thead>\n",
       "  <tbody>\n",
       "    <tr>\n",
       "      <th>34632</th>\n",
       "      <td>A1V32O52LIZTC9</td>\n",
       "      <td>B017RX1JUM</td>\n",
       "      <td>1.0</td>\n",
       "      <td>5.0</td>\n",
       "      <td>{'actual_k': 1, 'was_impossible': False}</td>\n",
       "      <td>2</td>\n",
       "      <td>49</td>\n",
       "      <td>4.0</td>\n",
       "    </tr>\n",
       "    <tr>\n",
       "      <th>35806</th>\n",
       "      <td>A2PC5WRPDECNJ5</td>\n",
       "      <td>B0009CEKY6</td>\n",
       "      <td>1.0</td>\n",
       "      <td>5.0</td>\n",
       "      <td>{'actual_k': 1, 'was_impossible': False}</td>\n",
       "      <td>2</td>\n",
       "      <td>150</td>\n",
       "      <td>4.0</td>\n",
       "    </tr>\n",
       "    <tr>\n",
       "      <th>1095</th>\n",
       "      <td>A3BZ2A0DCJLM11</td>\n",
       "      <td>B0002YVBC0</td>\n",
       "      <td>1.0</td>\n",
       "      <td>5.0</td>\n",
       "      <td>{'actual_k': 3, 'was_impossible': False}</td>\n",
       "      <td>4</td>\n",
       "      <td>181</td>\n",
       "      <td>4.0</td>\n",
       "    </tr>\n",
       "    <tr>\n",
       "      <th>23759</th>\n",
       "      <td>A5JEO9I6A7X3A</td>\n",
       "      <td>B01FJGQK58</td>\n",
       "      <td>5.0</td>\n",
       "      <td>1.0</td>\n",
       "      <td>{'actual_k': 1, 'was_impossible': False}</td>\n",
       "      <td>6</td>\n",
       "      <td>18</td>\n",
       "      <td>4.0</td>\n",
       "    </tr>\n",
       "    <tr>\n",
       "      <th>8134</th>\n",
       "      <td>A2DP2R1R6FT20</td>\n",
       "      <td>B008X3CHKW</td>\n",
       "      <td>1.0</td>\n",
       "      <td>5.0</td>\n",
       "      <td>{'actual_k': 4, 'was_impossible': False}</td>\n",
       "      <td>3</td>\n",
       "      <td>120</td>\n",
       "      <td>4.0</td>\n",
       "    </tr>\n",
       "    <tr>\n",
       "      <th>40405</th>\n",
       "      <td>AQ1FWUP3I93IY</td>\n",
       "      <td>B00J3JSEG6</td>\n",
       "      <td>1.0</td>\n",
       "      <td>5.0</td>\n",
       "      <td>{'actual_k': 9, 'was_impossible': False}</td>\n",
       "      <td>9</td>\n",
       "      <td>175</td>\n",
       "      <td>4.0</td>\n",
       "    </tr>\n",
       "    <tr>\n",
       "      <th>12229</th>\n",
       "      <td>A2P5X7EQPQNNHD</td>\n",
       "      <td>B00396S1Q2</td>\n",
       "      <td>5.0</td>\n",
       "      <td>1.0</td>\n",
       "      <td>{'actual_k': 1, 'was_impossible': False}</td>\n",
       "      <td>1</td>\n",
       "      <td>451</td>\n",
       "      <td>4.0</td>\n",
       "    </tr>\n",
       "    <tr>\n",
       "      <th>26992</th>\n",
       "      <td>A3Q4W3A18SWIEL</td>\n",
       "      <td>B00J4FVZU6</td>\n",
       "      <td>1.0</td>\n",
       "      <td>5.0</td>\n",
       "      <td>{'actual_k': 1, 'was_impossible': False}</td>\n",
       "      <td>4</td>\n",
       "      <td>72</td>\n",
       "      <td>4.0</td>\n",
       "    </tr>\n",
       "    <tr>\n",
       "      <th>38318</th>\n",
       "      <td>ACOV36R272G8F</td>\n",
       "      <td>B000XYOUS6</td>\n",
       "      <td>1.0</td>\n",
       "      <td>5.0</td>\n",
       "      <td>{'actual_k': 4, 'was_impossible': False}</td>\n",
       "      <td>3</td>\n",
       "      <td>366</td>\n",
       "      <td>4.0</td>\n",
       "    </tr>\n",
       "    <tr>\n",
       "      <th>46357</th>\n",
       "      <td>A1J36II3HJUQA2</td>\n",
       "      <td>B00A97FIG0</td>\n",
       "      <td>1.0</td>\n",
       "      <td>5.0</td>\n",
       "      <td>{'actual_k': 5, 'was_impossible': False}</td>\n",
       "      <td>9</td>\n",
       "      <td>106</td>\n",
       "      <td>4.0</td>\n",
       "    </tr>\n",
       "  </tbody>\n",
       "</table>\n",
       "</div>"
      ],
      "text/plain": [
       "                  uid         iid  rui  est  \\\n",
       "34632  A1V32O52LIZTC9  B017RX1JUM  1.0  5.0   \n",
       "35806  A2PC5WRPDECNJ5  B0009CEKY6  1.0  5.0   \n",
       "1095   A3BZ2A0DCJLM11  B0002YVBC0  1.0  5.0   \n",
       "23759   A5JEO9I6A7X3A  B01FJGQK58  5.0  1.0   \n",
       "8134    A2DP2R1R6FT20  B008X3CHKW  1.0  5.0   \n",
       "40405   AQ1FWUP3I93IY  B00J3JSEG6  1.0  5.0   \n",
       "12229  A2P5X7EQPQNNHD  B00396S1Q2  5.0  1.0   \n",
       "26992  A3Q4W3A18SWIEL  B00J4FVZU6  1.0  5.0   \n",
       "38318   ACOV36R272G8F  B000XYOUS6  1.0  5.0   \n",
       "46357  A1J36II3HJUQA2  B00A97FIG0  1.0  5.0   \n",
       "\n",
       "                                        details  Iu   Ui  err  \n",
       "34632  {'actual_k': 1, 'was_impossible': False}   2   49  4.0  \n",
       "35806  {'actual_k': 1, 'was_impossible': False}   2  150  4.0  \n",
       "1095   {'actual_k': 3, 'was_impossible': False}   4  181  4.0  \n",
       "23759  {'actual_k': 1, 'was_impossible': False}   6   18  4.0  \n",
       "8134   {'actual_k': 4, 'was_impossible': False}   3  120  4.0  \n",
       "40405  {'actual_k': 9, 'was_impossible': False}   9  175  4.0  \n",
       "12229  {'actual_k': 1, 'was_impossible': False}   1  451  4.0  \n",
       "26992  {'actual_k': 1, 'was_impossible': False}   4   72  4.0  \n",
       "38318  {'actual_k': 4, 'was_impossible': False}   3  366  4.0  \n",
       "46357  {'actual_k': 5, 'was_impossible': False}   9  106  4.0  "
      ]
     },
     "execution_count": 130,
     "metadata": {},
     "output_type": "execute_result"
    }
   ],
   "source": [
    "worst_predictions"
   ]
  },
  {
   "cell_type": "code",
   "execution_count": 131,
   "id": "623dfab8",
   "metadata": {},
   "outputs": [
    {
     "data": {
      "text/html": [
       "<div>\n",
       "<style scoped>\n",
       "    .dataframe tbody tr th:only-of-type {\n",
       "        vertical-align: middle;\n",
       "    }\n",
       "\n",
       "    .dataframe tbody tr th {\n",
       "        vertical-align: top;\n",
       "    }\n",
       "\n",
       "    .dataframe thead th {\n",
       "        text-align: right;\n",
       "    }\n",
       "</style>\n",
       "<table border=\"1\" class=\"dataframe\">\n",
       "  <thead>\n",
       "    <tr style=\"text-align: right;\">\n",
       "      <th></th>\n",
       "      <th>rui</th>\n",
       "      <th>est</th>\n",
       "    </tr>\n",
       "  </thead>\n",
       "  <tbody>\n",
       "    <tr>\n",
       "      <th>rui</th>\n",
       "      <td>1.0000</td>\n",
       "      <td>0.1241</td>\n",
       "    </tr>\n",
       "    <tr>\n",
       "      <th>est</th>\n",
       "      <td>0.1241</td>\n",
       "      <td>1.0000</td>\n",
       "    </tr>\n",
       "  </tbody>\n",
       "</table>\n",
       "</div>"
      ],
      "text/plain": [
       "        rui     est\n",
       "rui  1.0000  0.1241\n",
       "est  0.1241  1.0000"
      ]
     },
     "execution_count": 131,
     "metadata": {},
     "output_type": "execute_result"
    }
   ],
   "source": [
    "res_df[['rui','est']].corr()"
   ]
  },
  {
   "cell_type": "code",
   "execution_count": 132,
   "id": "2000ca7e",
   "metadata": {},
   "outputs": [
    {
     "data": {
      "image/png": "[encoded data removed]",
      "text/plain": [
       "<Figure size 576x396 with 1 Axes>"
      ]
     },
     "metadata": {
      "image/png": {
       "height": 369,
       "width": 495
      }
     },
     "output_type": "display_data"
    }
   ],
   "source": [
    "res_df['est'].hist(bins=20)\n",
    "res_df['rui'].hist(bins=20)\n",
    "plt.legend(['est','rui'])\n",
    "plt.suptitle(\"Histograms of estimated and true ratings\")\n",
    "plt.show()"
   ]
  },
  {
   "cell_type": "markdown",
   "id": "164160fc",
   "metadata": {},
   "source": [
    "OBSERVATION: est (predicted rating) has very low correlation with rui (\"overall\").   \n",
    "The naive sentiment alogithm gives ratings in a very narrow narrow interval between 4 an 5,   \n",
    "reflective of values of \"overall\" that close to median."
   ]
  },
  {
   "cell_type": "markdown",
   "id": "6735696a",
   "metadata": {},
   "source": [
    "### Let's build a classic item-based recommender and compare it with sentiment model as a baseline"
   ]
  },
  {
   "cell_type": "markdown",
   "id": "a1d22483",
   "metadata": {},
   "source": [
    "#### Set train and test"
   ]
  },
  {
   "cell_type": "code",
   "execution_count": 66,
   "id": "c4ecb99f",
   "metadata": {},
   "outputs": [],
   "source": [
    "train_set_from_df = Dataset.load_from_df(train[['reviewerID', 'asin', 'overall']], reader) #.iloc[:50000]\n",
    "train_set = train_set_from_df.build_full_trainset()\n",
    "\n",
    "testset = [test.loc[i][['reviewerID', 'asin', 'overall']].to_list() for i in test.index.tolist()]"
   ]
  },
  {
   "cell_type": "markdown",
   "id": "1574de2e",
   "metadata": {},
   "source": [
    "#### Set algorithm options and cross-validate it"
   ]
  },
  {
   "cell_type": "raw",
   "id": "65de6e12",
   "metadata": {},
   "source": [
    "from surprise.model_selection import GridSearchCV\n",
    "param_grid = {'n_epochs': [3],\n",
    "              'method': ['als'],\n",
    "               'reg_u': [5, 10],\n",
    "               'reg_i': [150, 200, 250]}\n",
    "\n",
    "gs = GridSearchCV(KNNBaseline, param_grid, measures=['rmse', 'mae'], cv=2)\n",
    "\n",
    "gs.fit(train_set_from_df)\n",
    "\n",
    "# best RMSE score\n",
    "print(gs.best_score['rmse'])\n",
    "\n",
    "# combination of parameters that gave the best RMSE score\n",
    "print(gs.best_params['rmse'])"
   ]
  },
  {
   "cell_type": "code",
   "execution_count": 133,
   "id": "5b430c00",
   "metadata": {},
   "outputs": [
    {
     "name": "stdout",
     "output_type": "stream",
     "text": [
      "Estimating biases using als...\n",
      "Computing the msd similarity matrix...\n",
      "Done computing similarity matrix.\n",
      "Estimating biases using als...\n",
      "Computing the msd similarity matrix...\n",
      "Done computing similarity matrix.\n",
      "Estimating biases using als...\n",
      "Computing the msd similarity matrix...\n",
      "Done computing similarity matrix.\n"
     ]
    },
    {
     "data": {
      "text/plain": [
       "{'test_rmse': array([0.93569209, 0.93909518, 0.9245312 ]),\n",
       " 'fit_time': (115.95843315124512, 104.01163125038147, 101.568608045578),\n",
       " 'test_time': (10.518754959106445, 12.012758016586304, 10.249218225479126)}"
      ]
     },
     "execution_count": 133,
     "metadata": {},
     "output_type": "execute_result"
    }
   ],
   "source": [
    "algo = KNNBaseline(n_epochs=3,\n",
    "               method='als',\n",
    "               reg_u= 10,\n",
    "               reg_i=200)\n",
    "cross_validate(algo, train_set_from_df, measures=['RMSE'], cv=3, verbose=False)"
   ]
  },
  {
   "cell_type": "markdown",
   "id": "08672dd8",
   "metadata": {},
   "source": [
    "#### Predict results"
   ]
  },
  {
   "cell_type": "code",
   "execution_count": null,
   "id": "e92ccd5e",
   "metadata": {},
   "outputs": [],
   "source": [
    "predictions = algo.fit(train_set).test(testset)"
   ]
  },
  {
   "cell_type": "code",
   "execution_count": 136,
   "id": "36119663",
   "metadata": {},
   "outputs": [
    {
     "name": "stdout",
     "output_type": "stream",
     "text": [
      "RMSE: 1.0380\n"
     ]
    },
    {
     "data": {
      "text/plain": [
       "1.0380166109277742"
      ]
     },
     "execution_count": 136,
     "metadata": {},
     "output_type": "execute_result"
    }
   ],
   "source": [
    "rmse(predictions)"
   ]
  },
  {
   "cell_type": "code",
   "execution_count": 139,
   "id": "abe02ea9",
   "metadata": {},
   "outputs": [],
   "source": [
    "res_df = pd.DataFrame(predictions, columns=['uid', 'iid', 'rui', 'est', 'details'])\n",
    "res_df['Iu'] = res_df.uid.apply(get_Iu)\n",
    "res_df['Ui'] = res_df.iid.apply(get_Ui)\n",
    "res_df['err'] = abs(res_df.est - res_df.rui)\n",
    "best_predictions = res_df.sort_values(by='err')[:10]\n",
    "worst_predictions = res_df.sort_values(by='err')[-10:]"
   ]
  },
  {
   "cell_type": "code",
   "execution_count": 140,
   "id": "c43a50a6",
   "metadata": {},
   "outputs": [
    {
     "data": {
      "text/html": [
       "<div>\n",
       "<style scoped>\n",
       "    .dataframe tbody tr th:only-of-type {\n",
       "        vertical-align: middle;\n",
       "    }\n",
       "\n",
       "    .dataframe tbody tr th {\n",
       "        vertical-align: top;\n",
       "    }\n",
       "\n",
       "    .dataframe thead th {\n",
       "        text-align: right;\n",
       "    }\n",
       "</style>\n",
       "<table border=\"1\" class=\"dataframe\">\n",
       "  <thead>\n",
       "    <tr style=\"text-align: right;\">\n",
       "      <th></th>\n",
       "      <th>uid</th>\n",
       "      <th>iid</th>\n",
       "      <th>rui</th>\n",
       "      <th>est</th>\n",
       "      <th>details</th>\n",
       "      <th>Iu</th>\n",
       "      <th>Ui</th>\n",
       "      <th>err</th>\n",
       "    </tr>\n",
       "  </thead>\n",
       "  <tbody>\n",
       "    <tr>\n",
       "      <th>8584</th>\n",
       "      <td>A1BYXXIH7BXIHZ</td>\n",
       "      <td>B000X1NZPI</td>\n",
       "      <td>5.0</td>\n",
       "      <td>5.0</td>\n",
       "      <td>{'actual_k': 2, 'was_impossible': False}</td>\n",
       "      <td>4</td>\n",
       "      <td>104</td>\n",
       "      <td>0.0</td>\n",
       "    </tr>\n",
       "    <tr>\n",
       "      <th>37689</th>\n",
       "      <td>A2NM3OR66LK5HE</td>\n",
       "      <td>B00132H4OE</td>\n",
       "      <td>5.0</td>\n",
       "      <td>5.0</td>\n",
       "      <td>{'actual_k': 6, 'was_impossible': False}</td>\n",
       "      <td>5</td>\n",
       "      <td>84</td>\n",
       "      <td>0.0</td>\n",
       "    </tr>\n",
       "    <tr>\n",
       "      <th>37693</th>\n",
       "      <td>A3AB551HAJPXGC</td>\n",
       "      <td>B0010DHFTK</td>\n",
       "      <td>5.0</td>\n",
       "      <td>5.0</td>\n",
       "      <td>{'actual_k': 2, 'was_impossible': False}</td>\n",
       "      <td>1</td>\n",
       "      <td>168</td>\n",
       "      <td>0.0</td>\n",
       "    </tr>\n",
       "    <tr>\n",
       "      <th>45238</th>\n",
       "      <td>A2G93HLVITJE6N</td>\n",
       "      <td>B000P6G74M</td>\n",
       "      <td>5.0</td>\n",
       "      <td>5.0</td>\n",
       "      <td>{'actual_k': 1, 'was_impossible': False}</td>\n",
       "      <td>3</td>\n",
       "      <td>156</td>\n",
       "      <td>0.0</td>\n",
       "    </tr>\n",
       "    <tr>\n",
       "      <th>37695</th>\n",
       "      <td>A2NM3OR66LK5HE</td>\n",
       "      <td>B00132H4OE</td>\n",
       "      <td>5.0</td>\n",
       "      <td>5.0</td>\n",
       "      <td>{'actual_k': 6, 'was_impossible': False}</td>\n",
       "      <td>5</td>\n",
       "      <td>84</td>\n",
       "      <td>0.0</td>\n",
       "    </tr>\n",
       "    <tr>\n",
       "      <th>19364</th>\n",
       "      <td>A20SOBVAXWHSQ8</td>\n",
       "      <td>B000TGDGLU</td>\n",
       "      <td>5.0</td>\n",
       "      <td>5.0</td>\n",
       "      <td>{'actual_k': 1, 'was_impossible': False}</td>\n",
       "      <td>2</td>\n",
       "      <td>94</td>\n",
       "      <td>0.0</td>\n",
       "    </tr>\n",
       "    <tr>\n",
       "      <th>22446</th>\n",
       "      <td>A14V5S42XCL7IB</td>\n",
       "      <td>B0009V1WP2</td>\n",
       "      <td>5.0</td>\n",
       "      <td>5.0</td>\n",
       "      <td>{'actual_k': 2, 'was_impossible': False}</td>\n",
       "      <td>4</td>\n",
       "      <td>98</td>\n",
       "      <td>0.0</td>\n",
       "    </tr>\n",
       "    <tr>\n",
       "      <th>19361</th>\n",
       "      <td>A38S1KZE0GNT8G</td>\n",
       "      <td>B000O8OTNC</td>\n",
       "      <td>5.0</td>\n",
       "      <td>5.0</td>\n",
       "      <td>{'actual_k': 4, 'was_impossible': False}</td>\n",
       "      <td>6</td>\n",
       "      <td>77</td>\n",
       "      <td>0.0</td>\n",
       "    </tr>\n",
       "    <tr>\n",
       "      <th>37687</th>\n",
       "      <td>A3AB551HAJPXGC</td>\n",
       "      <td>B0010DHFTK</td>\n",
       "      <td>5.0</td>\n",
       "      <td>5.0</td>\n",
       "      <td>{'actual_k': 2, 'was_impossible': False}</td>\n",
       "      <td>1</td>\n",
       "      <td>168</td>\n",
       "      <td>0.0</td>\n",
       "    </tr>\n",
       "    <tr>\n",
       "      <th>43613</th>\n",
       "      <td>A1S0P16TIUH3RV</td>\n",
       "      <td>B00HXD2VV8</td>\n",
       "      <td>5.0</td>\n",
       "      <td>5.0</td>\n",
       "      <td>{'actual_k': 1, 'was_impossible': False}</td>\n",
       "      <td>3</td>\n",
       "      <td>67</td>\n",
       "      <td>0.0</td>\n",
       "    </tr>\n",
       "  </tbody>\n",
       "</table>\n",
       "</div>"
      ],
      "text/plain": [
       "                  uid         iid  rui  est  \\\n",
       "8584   A1BYXXIH7BXIHZ  B000X1NZPI  5.0  5.0   \n",
       "37689  A2NM3OR66LK5HE  B00132H4OE  5.0  5.0   \n",
       "37693  A3AB551HAJPXGC  B0010DHFTK  5.0  5.0   \n",
       "45238  A2G93HLVITJE6N  B000P6G74M  5.0  5.0   \n",
       "37695  A2NM3OR66LK5HE  B00132H4OE  5.0  5.0   \n",
       "19364  A20SOBVAXWHSQ8  B000TGDGLU  5.0  5.0   \n",
       "22446  A14V5S42XCL7IB  B0009V1WP2  5.0  5.0   \n",
       "19361  A38S1KZE0GNT8G  B000O8OTNC  5.0  5.0   \n",
       "37687  A3AB551HAJPXGC  B0010DHFTK  5.0  5.0   \n",
       "43613  A1S0P16TIUH3RV  B00HXD2VV8  5.0  5.0   \n",
       "\n",
       "                                        details  Iu   Ui  err  \n",
       "8584   {'actual_k': 2, 'was_impossible': False}   4  104  0.0  \n",
       "37689  {'actual_k': 6, 'was_impossible': False}   5   84  0.0  \n",
       "37693  {'actual_k': 2, 'was_impossible': False}   1  168  0.0  \n",
       "45238  {'actual_k': 1, 'was_impossible': False}   3  156  0.0  \n",
       "37695  {'actual_k': 6, 'was_impossible': False}   5   84  0.0  \n",
       "19364  {'actual_k': 1, 'was_impossible': False}   2   94  0.0  \n",
       "22446  {'actual_k': 2, 'was_impossible': False}   4   98  0.0  \n",
       "19361  {'actual_k': 4, 'was_impossible': False}   6   77  0.0  \n",
       "37687  {'actual_k': 2, 'was_impossible': False}   1  168  0.0  \n",
       "43613  {'actual_k': 1, 'was_impossible': False}   3   67  0.0  "
      ]
     },
     "execution_count": 140,
     "metadata": {},
     "output_type": "execute_result"
    }
   ],
   "source": [
    "best_predictions"
   ]
  },
  {
   "cell_type": "code",
   "execution_count": 141,
   "id": "163f5ef9",
   "metadata": {},
   "outputs": [
    {
     "data": {
      "text/html": [
       "<div>\n",
       "<style scoped>\n",
       "    .dataframe tbody tr th:only-of-type {\n",
       "        vertical-align: middle;\n",
       "    }\n",
       "\n",
       "    .dataframe tbody tr th {\n",
       "        vertical-align: top;\n",
       "    }\n",
       "\n",
       "    .dataframe thead th {\n",
       "        text-align: right;\n",
       "    }\n",
       "</style>\n",
       "<table border=\"1\" class=\"dataframe\">\n",
       "  <thead>\n",
       "    <tr style=\"text-align: right;\">\n",
       "      <th></th>\n",
       "      <th>uid</th>\n",
       "      <th>iid</th>\n",
       "      <th>rui</th>\n",
       "      <th>est</th>\n",
       "      <th>details</th>\n",
       "      <th>Iu</th>\n",
       "      <th>Ui</th>\n",
       "      <th>err</th>\n",
       "    </tr>\n",
       "  </thead>\n",
       "  <tbody>\n",
       "    <tr>\n",
       "      <th>34632</th>\n",
       "      <td>A1V32O52LIZTC9</td>\n",
       "      <td>B017RX1JUM</td>\n",
       "      <td>1.0</td>\n",
       "      <td>5.0</td>\n",
       "      <td>{'actual_k': 1, 'was_impossible': False}</td>\n",
       "      <td>2</td>\n",
       "      <td>49</td>\n",
       "      <td>4.0</td>\n",
       "    </tr>\n",
       "    <tr>\n",
       "      <th>35806</th>\n",
       "      <td>A2PC5WRPDECNJ5</td>\n",
       "      <td>B0009CEKY6</td>\n",
       "      <td>1.0</td>\n",
       "      <td>5.0</td>\n",
       "      <td>{'actual_k': 1, 'was_impossible': False}</td>\n",
       "      <td>2</td>\n",
       "      <td>150</td>\n",
       "      <td>4.0</td>\n",
       "    </tr>\n",
       "    <tr>\n",
       "      <th>1095</th>\n",
       "      <td>A3BZ2A0DCJLM11</td>\n",
       "      <td>B0002YVBC0</td>\n",
       "      <td>1.0</td>\n",
       "      <td>5.0</td>\n",
       "      <td>{'actual_k': 3, 'was_impossible': False}</td>\n",
       "      <td>4</td>\n",
       "      <td>181</td>\n",
       "      <td>4.0</td>\n",
       "    </tr>\n",
       "    <tr>\n",
       "      <th>23759</th>\n",
       "      <td>A5JEO9I6A7X3A</td>\n",
       "      <td>B01FJGQK58</td>\n",
       "      <td>5.0</td>\n",
       "      <td>1.0</td>\n",
       "      <td>{'actual_k': 1, 'was_impossible': False}</td>\n",
       "      <td>6</td>\n",
       "      <td>18</td>\n",
       "      <td>4.0</td>\n",
       "    </tr>\n",
       "    <tr>\n",
       "      <th>8134</th>\n",
       "      <td>A2DP2R1R6FT20</td>\n",
       "      <td>B008X3CHKW</td>\n",
       "      <td>1.0</td>\n",
       "      <td>5.0</td>\n",
       "      <td>{'actual_k': 4, 'was_impossible': False}</td>\n",
       "      <td>3</td>\n",
       "      <td>120</td>\n",
       "      <td>4.0</td>\n",
       "    </tr>\n",
       "    <tr>\n",
       "      <th>40405</th>\n",
       "      <td>AQ1FWUP3I93IY</td>\n",
       "      <td>B00J3JSEG6</td>\n",
       "      <td>1.0</td>\n",
       "      <td>5.0</td>\n",
       "      <td>{'actual_k': 9, 'was_impossible': False}</td>\n",
       "      <td>9</td>\n",
       "      <td>175</td>\n",
       "      <td>4.0</td>\n",
       "    </tr>\n",
       "    <tr>\n",
       "      <th>12229</th>\n",
       "      <td>A2P5X7EQPQNNHD</td>\n",
       "      <td>B00396S1Q2</td>\n",
       "      <td>5.0</td>\n",
       "      <td>1.0</td>\n",
       "      <td>{'actual_k': 1, 'was_impossible': False}</td>\n",
       "      <td>1</td>\n",
       "      <td>451</td>\n",
       "      <td>4.0</td>\n",
       "    </tr>\n",
       "    <tr>\n",
       "      <th>26992</th>\n",
       "      <td>A3Q4W3A18SWIEL</td>\n",
       "      <td>B00J4FVZU6</td>\n",
       "      <td>1.0</td>\n",
       "      <td>5.0</td>\n",
       "      <td>{'actual_k': 1, 'was_impossible': False}</td>\n",
       "      <td>4</td>\n",
       "      <td>72</td>\n",
       "      <td>4.0</td>\n",
       "    </tr>\n",
       "    <tr>\n",
       "      <th>38318</th>\n",
       "      <td>ACOV36R272G8F</td>\n",
       "      <td>B000XYOUS6</td>\n",
       "      <td>1.0</td>\n",
       "      <td>5.0</td>\n",
       "      <td>{'actual_k': 4, 'was_impossible': False}</td>\n",
       "      <td>3</td>\n",
       "      <td>366</td>\n",
       "      <td>4.0</td>\n",
       "    </tr>\n",
       "    <tr>\n",
       "      <th>46357</th>\n",
       "      <td>A1J36II3HJUQA2</td>\n",
       "      <td>B00A97FIG0</td>\n",
       "      <td>1.0</td>\n",
       "      <td>5.0</td>\n",
       "      <td>{'actual_k': 5, 'was_impossible': False}</td>\n",
       "      <td>9</td>\n",
       "      <td>106</td>\n",
       "      <td>4.0</td>\n",
       "    </tr>\n",
       "  </tbody>\n",
       "</table>\n",
       "</div>"
      ],
      "text/plain": [
       "                  uid         iid  rui  est  \\\n",
       "34632  A1V32O52LIZTC9  B017RX1JUM  1.0  5.0   \n",
       "35806  A2PC5WRPDECNJ5  B0009CEKY6  1.0  5.0   \n",
       "1095   A3BZ2A0DCJLM11  B0002YVBC0  1.0  5.0   \n",
       "23759   A5JEO9I6A7X3A  B01FJGQK58  5.0  1.0   \n",
       "8134    A2DP2R1R6FT20  B008X3CHKW  1.0  5.0   \n",
       "40405   AQ1FWUP3I93IY  B00J3JSEG6  1.0  5.0   \n",
       "12229  A2P5X7EQPQNNHD  B00396S1Q2  5.0  1.0   \n",
       "26992  A3Q4W3A18SWIEL  B00J4FVZU6  1.0  5.0   \n",
       "38318   ACOV36R272G8F  B000XYOUS6  1.0  5.0   \n",
       "46357  A1J36II3HJUQA2  B00A97FIG0  1.0  5.0   \n",
       "\n",
       "                                        details  Iu   Ui  err  \n",
       "34632  {'actual_k': 1, 'was_impossible': False}   2   49  4.0  \n",
       "35806  {'actual_k': 1, 'was_impossible': False}   2  150  4.0  \n",
       "1095   {'actual_k': 3, 'was_impossible': False}   4  181  4.0  \n",
       "23759  {'actual_k': 1, 'was_impossible': False}   6   18  4.0  \n",
       "8134   {'actual_k': 4, 'was_impossible': False}   3  120  4.0  \n",
       "40405  {'actual_k': 9, 'was_impossible': False}   9  175  4.0  \n",
       "12229  {'actual_k': 1, 'was_impossible': False}   1  451  4.0  \n",
       "26992  {'actual_k': 1, 'was_impossible': False}   4   72  4.0  \n",
       "38318  {'actual_k': 4, 'was_impossible': False}   3  366  4.0  \n",
       "46357  {'actual_k': 5, 'was_impossible': False}   9  106  4.0  "
      ]
     },
     "execution_count": 141,
     "metadata": {},
     "output_type": "execute_result"
    }
   ],
   "source": [
    "worst_predictions"
   ]
  },
  {
   "cell_type": "code",
   "execution_count": 142,
   "id": "558c60bf",
   "metadata": {},
   "outputs": [],
   "source": [
    "res_df = pd.DataFrame(predictions, columns=['uid', 'iid', 'rui', 'est', 'details'])"
   ]
  },
  {
   "cell_type": "code",
   "execution_count": 143,
   "id": "062aadc3",
   "metadata": {},
   "outputs": [
    {
     "data": {
      "text/html": [
       "<div>\n",
       "<style scoped>\n",
       "    .dataframe tbody tr th:only-of-type {\n",
       "        vertical-align: middle;\n",
       "    }\n",
       "\n",
       "    .dataframe tbody tr th {\n",
       "        vertical-align: top;\n",
       "    }\n",
       "\n",
       "    .dataframe thead th {\n",
       "        text-align: right;\n",
       "    }\n",
       "</style>\n",
       "<table border=\"1\" class=\"dataframe\">\n",
       "  <thead>\n",
       "    <tr style=\"text-align: right;\">\n",
       "      <th></th>\n",
       "      <th>uid</th>\n",
       "      <th>iid</th>\n",
       "      <th>rui</th>\n",
       "      <th>est</th>\n",
       "      <th>details</th>\n",
       "    </tr>\n",
       "  </thead>\n",
       "  <tbody>\n",
       "    <tr>\n",
       "      <th>0</th>\n",
       "      <td>A1SHO5KDEAVWYO</td>\n",
       "      <td>B000R8LH3E</td>\n",
       "      <td>5.0</td>\n",
       "      <td>3.0858</td>\n",
       "      <td>{'actual_k': 1, 'was_impossible': False}</td>\n",
       "    </tr>\n",
       "    <tr>\n",
       "      <th>1</th>\n",
       "      <td>A162WTYANR6Y30</td>\n",
       "      <td>B000RB3XBA</td>\n",
       "      <td>4.0</td>\n",
       "      <td>4.4995</td>\n",
       "      <td>{'actual_k': 0, 'was_impossible': False}</td>\n",
       "    </tr>\n",
       "    <tr>\n",
       "      <th>2</th>\n",
       "      <td>AQ5E531L0AB1U</td>\n",
       "      <td>B000RB38X8</td>\n",
       "      <td>5.0</td>\n",
       "      <td>4.3956</td>\n",
       "      <td>{'actual_k': 14, 'was_impossible': False}</td>\n",
       "    </tr>\n",
       "    <tr>\n",
       "      <th>3</th>\n",
       "      <td>A3TVW95ALPCQ5K</td>\n",
       "      <td>B000SQS6L6</td>\n",
       "      <td>5.0</td>\n",
       "      <td>4.9204</td>\n",
       "      <td>{'actual_k': 40, 'was_impossible': False}</td>\n",
       "    </tr>\n",
       "    <tr>\n",
       "      <th>4</th>\n",
       "      <td>AMMM79VK84MK0</td>\n",
       "      <td>B000TGDGLU</td>\n",
       "      <td>5.0</td>\n",
       "      <td>4.3352</td>\n",
       "      <td>{'was_impossible': False}</td>\n",
       "    </tr>\n",
       "    <tr>\n",
       "      <th>...</th>\n",
       "      <td>...</td>\n",
       "      <td>...</td>\n",
       "      <td>...</td>\n",
       "      <td>...</td>\n",
       "      <td>...</td>\n",
       "    </tr>\n",
       "    <tr>\n",
       "      <th>47512</th>\n",
       "      <td>A10FAGRB34RUCH</td>\n",
       "      <td>B01DCHA3R2</td>\n",
       "      <td>5.0</td>\n",
       "      <td>4.4585</td>\n",
       "      <td>{'actual_k': 0, 'was_impossible': False}</td>\n",
       "    </tr>\n",
       "    <tr>\n",
       "      <th>47513</th>\n",
       "      <td>A9NZKWA4AVHNP</td>\n",
       "      <td>B01EZV35QU</td>\n",
       "      <td>5.0</td>\n",
       "      <td>4.1359</td>\n",
       "      <td>{'actual_k': 1, 'was_impossible': False}</td>\n",
       "    </tr>\n",
       "    <tr>\n",
       "      <th>47514</th>\n",
       "      <td>APQ85K5KNZ83X</td>\n",
       "      <td>B01EVYG9N2</td>\n",
       "      <td>5.0</td>\n",
       "      <td>4.3772</td>\n",
       "      <td>{'actual_k': 0, 'was_impossible': False}</td>\n",
       "    </tr>\n",
       "    <tr>\n",
       "      <th>47515</th>\n",
       "      <td>A27N8SKV3EBVQG</td>\n",
       "      <td>B01FX6JRWM</td>\n",
       "      <td>5.0</td>\n",
       "      <td>4.7111</td>\n",
       "      <td>{'was_impossible': False}</td>\n",
       "    </tr>\n",
       "    <tr>\n",
       "      <th>47516</th>\n",
       "      <td>A2S5EPJ451WL3I</td>\n",
       "      <td>B01G8E3T4K</td>\n",
       "      <td>4.0</td>\n",
       "      <td>4.4133</td>\n",
       "      <td>{'actual_k': 0, 'was_impossible': False}</td>\n",
       "    </tr>\n",
       "  </tbody>\n",
       "</table>\n",
       "<p>47517 rows × 5 columns</p>\n",
       "</div>"
      ],
      "text/plain": [
       "                  uid         iid  rui     est  \\\n",
       "0      A1SHO5KDEAVWYO  B000R8LH3E  5.0  3.0858   \n",
       "1      A162WTYANR6Y30  B000RB3XBA  4.0  4.4995   \n",
       "2       AQ5E531L0AB1U  B000RB38X8  5.0  4.3956   \n",
       "3      A3TVW95ALPCQ5K  B000SQS6L6  5.0  4.9204   \n",
       "4       AMMM79VK84MK0  B000TGDGLU  5.0  4.3352   \n",
       "...               ...         ...  ...     ...   \n",
       "47512  A10FAGRB34RUCH  B01DCHA3R2  5.0  4.4585   \n",
       "47513   A9NZKWA4AVHNP  B01EZV35QU  5.0  4.1359   \n",
       "47514   APQ85K5KNZ83X  B01EVYG9N2  5.0  4.3772   \n",
       "47515  A27N8SKV3EBVQG  B01FX6JRWM  5.0  4.7111   \n",
       "47516  A2S5EPJ451WL3I  B01G8E3T4K  4.0  4.4133   \n",
       "\n",
       "                                         details  \n",
       "0       {'actual_k': 1, 'was_impossible': False}  \n",
       "1       {'actual_k': 0, 'was_impossible': False}  \n",
       "2      {'actual_k': 14, 'was_impossible': False}  \n",
       "3      {'actual_k': 40, 'was_impossible': False}  \n",
       "4                      {'was_impossible': False}  \n",
       "...                                          ...  \n",
       "47512   {'actual_k': 0, 'was_impossible': False}  \n",
       "47513   {'actual_k': 1, 'was_impossible': False}  \n",
       "47514   {'actual_k': 0, 'was_impossible': False}  \n",
       "47515                  {'was_impossible': False}  \n",
       "47516   {'actual_k': 0, 'was_impossible': False}  \n",
       "\n",
       "[47517 rows x 5 columns]"
      ]
     },
     "execution_count": 143,
     "metadata": {},
     "output_type": "execute_result"
    }
   ],
   "source": [
    "res_df"
   ]
  },
  {
   "cell_type": "code",
   "execution_count": 144,
   "id": "60880ce9",
   "metadata": {},
   "outputs": [
    {
     "data": {
      "text/html": [
       "<div>\n",
       "<style scoped>\n",
       "    .dataframe tbody tr th:only-of-type {\n",
       "        vertical-align: middle;\n",
       "    }\n",
       "\n",
       "    .dataframe tbody tr th {\n",
       "        vertical-align: top;\n",
       "    }\n",
       "\n",
       "    .dataframe thead th {\n",
       "        text-align: right;\n",
       "    }\n",
       "</style>\n",
       "<table border=\"1\" class=\"dataframe\">\n",
       "  <thead>\n",
       "    <tr style=\"text-align: right;\">\n",
       "      <th></th>\n",
       "      <th>rui</th>\n",
       "      <th>est</th>\n",
       "    </tr>\n",
       "  </thead>\n",
       "  <tbody>\n",
       "    <tr>\n",
       "      <th>rui</th>\n",
       "      <td>1.0000</td>\n",
       "      <td>0.1241</td>\n",
       "    </tr>\n",
       "    <tr>\n",
       "      <th>est</th>\n",
       "      <td>0.1241</td>\n",
       "      <td>1.0000</td>\n",
       "    </tr>\n",
       "  </tbody>\n",
       "</table>\n",
       "</div>"
      ],
      "text/plain": [
       "        rui     est\n",
       "rui  1.0000  0.1241\n",
       "est  0.1241  1.0000"
      ]
     },
     "execution_count": 144,
     "metadata": {},
     "output_type": "execute_result"
    }
   ],
   "source": [
    "res_df[['rui','est']].corr()"
   ]
  },
  {
   "cell_type": "code",
   "execution_count": 145,
   "id": "bd366eab",
   "metadata": {},
   "outputs": [
    {
     "data": {
      "image/png": "[encoded data removed]",
      "text/plain": [
       "<Figure size 576x396 with 1 Axes>"
      ]
     },
     "metadata": {
      "image/png": {
       "height": 369,
       "width": 495
      }
     },
     "output_type": "display_data"
    }
   ],
   "source": [
    "res_df['est'].hist(bins=20)\n",
    "res_df['rui'].hist(bins=20)\n",
    "plt.legend(['est','rui'])\n",
    "plt.suptitle(\"Histograms of estimated and true ratings\")\n",
    "plt.show()"
   ]
  },
  {
   "cell_type": "markdown",
   "id": "03fb6376",
   "metadata": {},
   "source": [
    "### Conclusion"
   ]
  },
  {
   "cell_type": "markdown",
   "id": "9ae6f814",
   "metadata": {},
   "source": [
    "Two recommender models show nearly identical, not particularly impressive results. Hyperparameter tuning and playing with other algorithms should definitely improve the practicality of the models. Sentiment-based model can be improved by changing the method to a more sophisticated approach to positive/negative score calculation."
   ]
  }
 ],
 "metadata": {
  "kernelspec": {
   "display_name": "Python 3 (ipykernel)",
   "language": "python",
   "name": "python3"
  },
  "language_info": {
   "codemirror_mode": {
    "name": "ipython",
    "version": 3
   },
   "file_extension": ".py",
   "mimetype": "text/x-python",
   "name": "python",
   "nbconvert_exporter": "python",
   "pygments_lexer": "ipython3",
   "version": "3.9.12"
  },
  "toc": {
   "base_numbering": 1,
   "nav_menu": {},
   "number_sections": true,
   "sideBar": false,
   "skip_h1_title": true,
   "title_cell": "Table of Contents",
   "title_sidebar": "Contents",
   "toc_cell": false,
   "toc_position": {},
   "toc_section_display": true,
   "toc_window_display": false
  }
 },
 "nbformat": 4,
 "nbformat_minor": 5
}
